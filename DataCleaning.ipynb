{
 "cells": [
  {
   "cell_type": "code",
   "execution_count": 5,
   "metadata": {},
   "outputs": [],
   "source": [
    "import pandas as pd\n",
    "import numpy as np\n",
    "import os\n",
    "import networkx as nx"
   ]
  },
  {
   "cell_type": "code",
   "execution_count": 6,
   "metadata": {},
   "outputs": [],
   "source": [
    "## Import up sound alert dependencies\n",
    "from IPython.display import Audio, display\n",
    "\n",
    "def allDone():\n",
    "    display(Audio(url='https://sound.peal.io/ps/audios/000/000/537/original/woo_vu_luvub_dub_dub.wav', autoplay=True))\n",
    "## Insert whatever audio file you want above\n",
    "\n",
    "# allDone()"
   ]
  },
  {
   "cell_type": "code",
   "execution_count": 7,
   "metadata": {},
   "outputs": [
    {
     "data": {
      "text/plain": [
       "['spainevent.json',\n",
       " '.DS_Store',\n",
       " 'referees.json',\n",
       " 'teams.json',\n",
       " 'matches',\n",
       " 'allevents.json',\n",
       " 'worldevent.json',\n",
       " 'competitions.json',\n",
       " 'events',\n",
       " 'players.json',\n",
       " 'coaches.json']"
      ]
     },
     "execution_count": 7,
     "metadata": {},
     "output_type": "execute_result"
    }
   ],
   "source": [
    "# Change directory to make things easier\n",
    "os.chdir('/Users/Yuval/Desktop/Pawsey/data/')\n",
    "os.listdir()"
   ]
  },
  {
   "cell_type": "code",
   "execution_count": 8,
   "metadata": {},
   "outputs": [
    {
     "data": {
      "text/plain": [
       "['matches_World_Cup.json',\n",
       " 'matches_Italy.json',\n",
       " 'matches_Germany.json',\n",
       " 'matches_England.json',\n",
       " 'matches_France.json',\n",
       " 'matches_Spain.json',\n",
       " 'matches_European_Championship.json']"
      ]
     },
     "execution_count": 8,
     "metadata": {},
     "output_type": "execute_result"
    }
   ],
   "source": [
    "os.listdir('matches/')"
   ]
  },
  {
   "cell_type": "code",
   "execution_count": 25,
   "metadata": {},
   "outputs": [],
   "source": [
    "import pandas as pd\n",
    "World = pd.read_json('/Users/Yuval/Desktop/Pawsey/data/matches/matches_World_Cup.json')\n",
    "label = World.head()['teamsData'][2]"
   ]
  },
  {
   "cell_type": "code",
   "execution_count": 29,
   "metadata": {},
   "outputs": [
    {
     "data": {
      "text/html": [
       "<div>\n",
       "<style scoped>\n",
       "    .dataframe tbody tr th:only-of-type {\n",
       "        vertical-align: middle;\n",
       "    }\n",
       "\n",
       "    .dataframe tbody tr th {\n",
       "        vertical-align: top;\n",
       "    }\n",
       "\n",
       "    .dataframe thead th {\n",
       "        text-align: right;\n",
       "    }\n",
       "</style>\n",
       "<table border=\"1\" class=\"dataframe\">\n",
       "  <thead>\n",
       "    <tr style=\"text-align: right;\">\n",
       "      <th></th>\n",
       "      <th>status</th>\n",
       "      <th>roundId</th>\n",
       "      <th>gameweek</th>\n",
       "      <th>teamsData</th>\n",
       "      <th>seasonId</th>\n",
       "      <th>dateutc</th>\n",
       "      <th>winner</th>\n",
       "      <th>venue</th>\n",
       "      <th>wyId</th>\n",
       "      <th>label</th>\n",
       "      <th>date</th>\n",
       "      <th>groupName</th>\n",
       "      <th>referees</th>\n",
       "      <th>duration</th>\n",
       "      <th>competitionId</th>\n",
       "    </tr>\n",
       "  </thead>\n",
       "  <tbody>\n",
       "    <tr>\n",
       "      <td>4</td>\n",
       "      <td>Played</td>\n",
       "      <td>4165365</td>\n",
       "      <td>0</td>\n",
       "      <td>{'14358': {'scoreET': 2, 'coachId': 264893, 's...</td>\n",
       "      <td>10078</td>\n",
       "      <td>2018-07-07 18:00:00</td>\n",
       "      <td>9598</td>\n",
       "      <td>Olimpiyskiy Stadion Fisht</td>\n",
       "      <td>2058012</td>\n",
       "      <td>Russia - Croatia, 2 - 2 (P)</td>\n",
       "      <td>2018-07-07 20:00:00-02:00</td>\n",
       "      <td></td>\n",
       "      <td>[{'refereeId': 378204, 'role': 'referee'}, {'r...</td>\n",
       "      <td>Penalties</td>\n",
       "      <td>28</td>\n",
       "    </tr>\n",
       "  </tbody>\n",
       "</table>\n",
       "</div>"
      ],
      "text/plain": [
       "   status  roundId  gameweek  \\\n",
       "4  Played  4165365         0   \n",
       "\n",
       "                                           teamsData  seasonId  \\\n",
       "4  {'14358': {'scoreET': 2, 'coachId': 264893, 's...     10078   \n",
       "\n",
       "               dateutc  winner                      venue     wyId  \\\n",
       "4  2018-07-07 18:00:00    9598  Olimpiyskiy Stadion Fisht  2058012   \n",
       "\n",
       "                         label                      date groupName  \\\n",
       "4  Russia - Croatia, 2 - 2 (P) 2018-07-07 20:00:00-02:00             \n",
       "\n",
       "                                            referees   duration  competitionId  \n",
       "4  [{'refereeId': 378204, 'role': 'referee'}, {'r...  Penalties             28  "
      ]
     },
     "execution_count": 29,
     "metadata": {},
     "output_type": "execute_result"
    }
   ],
   "source": [
    "World.loc[World['wyId'] == 2058012]"
   ]
  },
  {
   "cell_type": "code",
   "execution_count": 31,
   "metadata": {},
   "outputs": [],
   "source": [
    "df = pd.read_json('/Users/Yuval/Desktop/Pawsey/data/cleaned_events/cleaned_events_World_Cup.json')"
   ]
  },
  {
   "cell_type": "code",
   "execution_count": 32,
   "metadata": {},
   "outputs": [
    {
     "data": {
      "text/html": [
       "<div>\n",
       "<style scoped>\n",
       "    .dataframe tbody tr th:only-of-type {\n",
       "        vertical-align: middle;\n",
       "    }\n",
       "\n",
       "    .dataframe tbody tr th {\n",
       "        vertical-align: top;\n",
       "    }\n",
       "\n",
       "    .dataframe thead th {\n",
       "        text-align: right;\n",
       "    }\n",
       "</style>\n",
       "<table border=\"1\" class=\"dataframe\">\n",
       "  <thead>\n",
       "    <tr style=\"text-align: right;\">\n",
       "      <th></th>\n",
       "      <th>eventId</th>\n",
       "      <th>subEventName</th>\n",
       "      <th>playerId</th>\n",
       "      <th>matchId</th>\n",
       "      <th>teamId</th>\n",
       "      <th>matchPeriod</th>\n",
       "      <th>eventSec</th>\n",
       "      <th>subEventId</th>\n",
       "      <th>id</th>\n",
       "      <th>Result</th>\n",
       "      <th>subEventDescription</th>\n",
       "      <th>xStart</th>\n",
       "      <th>xEnd</th>\n",
       "      <th>yStart</th>\n",
       "      <th>yEnd</th>\n",
       "      <th>attackMetres</th>\n",
       "    </tr>\n",
       "  </thead>\n",
       "  <tbody>\n",
       "    <tr>\n",
       "      <td>91524</td>\n",
       "      <td>8</td>\n",
       "      <td>Simple pass</td>\n",
       "      <td>14943</td>\n",
       "      <td>2058012</td>\n",
       "      <td>9598</td>\n",
       "      <td>1H</td>\n",
       "      <td>1.640929</td>\n",
       "      <td>85</td>\n",
       "      <td>279009721</td>\n",
       "      <td>Accurate</td>\n",
       "      <td>generic play</td>\n",
       "      <td>50</td>\n",
       "      <td>35</td>\n",
       "      <td>51</td>\n",
       "      <td>41</td>\n",
       "      <td>-15</td>\n",
       "    </tr>\n",
       "    <tr>\n",
       "      <td>91525</td>\n",
       "      <td>8</td>\n",
       "      <td>Simple pass</td>\n",
       "      <td>3476</td>\n",
       "      <td>2058012</td>\n",
       "      <td>9598</td>\n",
       "      <td>1H</td>\n",
       "      <td>3.631900</td>\n",
       "      <td>85</td>\n",
       "      <td>279009722</td>\n",
       "      <td>Accurate</td>\n",
       "      <td>generic play</td>\n",
       "      <td>35</td>\n",
       "      <td>32</td>\n",
       "      <td>41</td>\n",
       "      <td>64</td>\n",
       "      <td>-3</td>\n",
       "    </tr>\n",
       "    <tr>\n",
       "      <td>91526</td>\n",
       "      <td>8</td>\n",
       "      <td>Simple pass</td>\n",
       "      <td>8287</td>\n",
       "      <td>2058012</td>\n",
       "      <td>9598</td>\n",
       "      <td>1H</td>\n",
       "      <td>4.963752</td>\n",
       "      <td>85</td>\n",
       "      <td>279009723</td>\n",
       "      <td>Accurate</td>\n",
       "      <td>generic play</td>\n",
       "      <td>32</td>\n",
       "      <td>33</td>\n",
       "      <td>64</td>\n",
       "      <td>42</td>\n",
       "      <td>1</td>\n",
       "    </tr>\n",
       "    <tr>\n",
       "      <td>91527</td>\n",
       "      <td>8</td>\n",
       "      <td>Simple pass</td>\n",
       "      <td>3476</td>\n",
       "      <td>2058012</td>\n",
       "      <td>9598</td>\n",
       "      <td>1H</td>\n",
       "      <td>6.843156</td>\n",
       "      <td>85</td>\n",
       "      <td>279009724</td>\n",
       "      <td>Accurate</td>\n",
       "      <td>generic play</td>\n",
       "      <td>33</td>\n",
       "      <td>26</td>\n",
       "      <td>42</td>\n",
       "      <td>30</td>\n",
       "      <td>-7</td>\n",
       "    </tr>\n",
       "    <tr>\n",
       "      <td>91528</td>\n",
       "      <td>8</td>\n",
       "      <td>Simple pass</td>\n",
       "      <td>69396</td>\n",
       "      <td>2058012</td>\n",
       "      <td>9598</td>\n",
       "      <td>1H</td>\n",
       "      <td>9.749026</td>\n",
       "      <td>85</td>\n",
       "      <td>279009725</td>\n",
       "      <td>Accurate</td>\n",
       "      <td>generic play</td>\n",
       "      <td>26</td>\n",
       "      <td>45</td>\n",
       "      <td>30</td>\n",
       "      <td>9</td>\n",
       "      <td>19</td>\n",
       "    </tr>\n",
       "    <tr>\n",
       "      <td>...</td>\n",
       "      <td>...</td>\n",
       "      <td>...</td>\n",
       "      <td>...</td>\n",
       "      <td>...</td>\n",
       "      <td>...</td>\n",
       "      <td>...</td>\n",
       "      <td>...</td>\n",
       "      <td>...</td>\n",
       "      <td>...</td>\n",
       "      <td>...</td>\n",
       "      <td>...</td>\n",
       "      <td>...</td>\n",
       "      <td>...</td>\n",
       "      <td>...</td>\n",
       "      <td>...</td>\n",
       "      <td>...</td>\n",
       "    </tr>\n",
       "    <tr>\n",
       "      <td>93574</td>\n",
       "      <td>9</td>\n",
       "      <td>Reflexes</td>\n",
       "      <td>101576</td>\n",
       "      <td>2058012</td>\n",
       "      <td>14358</td>\n",
       "      <td>P</td>\n",
       "      <td>335.371400</td>\n",
       "      <td>90</td>\n",
       "      <td>279012188</td>\n",
       "      <td>Inaccurate</td>\n",
       "      <td>goal position_goal_high_left</td>\n",
       "      <td>0</td>\n",
       "      <td>90</td>\n",
       "      <td>0</td>\n",
       "      <td>50</td>\n",
       "      <td>90</td>\n",
       "    </tr>\n",
       "    <tr>\n",
       "      <td>93575</td>\n",
       "      <td>3</td>\n",
       "      <td>Penalty</td>\n",
       "      <td>220971</td>\n",
       "      <td>2058012</td>\n",
       "      <td>14358</td>\n",
       "      <td>P</td>\n",
       "      <td>370.510881</td>\n",
       "      <td>35</td>\n",
       "      <td>279012184</td>\n",
       "      <td>Accurate</td>\n",
       "      <td>goal right_foot position_goal_low_left</td>\n",
       "      <td>90</td>\n",
       "      <td>0</td>\n",
       "      <td>50</td>\n",
       "      <td>0</td>\n",
       "      <td>-90</td>\n",
       "    </tr>\n",
       "    <tr>\n",
       "      <td>93576</td>\n",
       "      <td>9</td>\n",
       "      <td>Reflexes</td>\n",
       "      <td>135747</td>\n",
       "      <td>2058012</td>\n",
       "      <td>9598</td>\n",
       "      <td>P</td>\n",
       "      <td>372.467025</td>\n",
       "      <td>90</td>\n",
       "      <td>279012185</td>\n",
       "      <td>Inaccurate</td>\n",
       "      <td>goal position_goal_low_left</td>\n",
       "      <td>100</td>\n",
       "      <td>10</td>\n",
       "      <td>100</td>\n",
       "      <td>50</td>\n",
       "      <td>-90</td>\n",
       "    </tr>\n",
       "    <tr>\n",
       "      <td>93577</td>\n",
       "      <td>3</td>\n",
       "      <td>Penalty</td>\n",
       "      <td>3476</td>\n",
       "      <td>2058012</td>\n",
       "      <td>9598</td>\n",
       "      <td>P</td>\n",
       "      <td>421.460671</td>\n",
       "      <td>35</td>\n",
       "      <td>279012186</td>\n",
       "      <td>Accurate</td>\n",
       "      <td>goal right_foot position_goal_low_left</td>\n",
       "      <td>10</td>\n",
       "      <td>100</td>\n",
       "      <td>50</td>\n",
       "      <td>100</td>\n",
       "      <td>90</td>\n",
       "    </tr>\n",
       "    <tr>\n",
       "      <td>93578</td>\n",
       "      <td>9</td>\n",
       "      <td>Reflexes</td>\n",
       "      <td>101576</td>\n",
       "      <td>2058012</td>\n",
       "      <td>14358</td>\n",
       "      <td>P</td>\n",
       "      <td>422.918426</td>\n",
       "      <td>90</td>\n",
       "      <td>279012187</td>\n",
       "      <td>Inaccurate</td>\n",
       "      <td>goal position_goal_low_left</td>\n",
       "      <td>0</td>\n",
       "      <td>90</td>\n",
       "      <td>0</td>\n",
       "      <td>50</td>\n",
       "      <td>90</td>\n",
       "    </tr>\n",
       "  </tbody>\n",
       "</table>\n",
       "<p>1843 rows × 16 columns</p>\n",
       "</div>"
      ],
      "text/plain": [
       "       eventId subEventName  playerId  matchId  teamId matchPeriod  \\\n",
       "91524        8  Simple pass     14943  2058012    9598          1H   \n",
       "91525        8  Simple pass      3476  2058012    9598          1H   \n",
       "91526        8  Simple pass      8287  2058012    9598          1H   \n",
       "91527        8  Simple pass      3476  2058012    9598          1H   \n",
       "91528        8  Simple pass     69396  2058012    9598          1H   \n",
       "...        ...          ...       ...      ...     ...         ...   \n",
       "93574        9     Reflexes    101576  2058012   14358           P   \n",
       "93575        3      Penalty    220971  2058012   14358           P   \n",
       "93576        9     Reflexes    135747  2058012    9598           P   \n",
       "93577        3      Penalty      3476  2058012    9598           P   \n",
       "93578        9     Reflexes    101576  2058012   14358           P   \n",
       "\n",
       "         eventSec  subEventId         id      Result  \\\n",
       "91524    1.640929          85  279009721    Accurate   \n",
       "91525    3.631900          85  279009722    Accurate   \n",
       "91526    4.963752          85  279009723    Accurate   \n",
       "91527    6.843156          85  279009724    Accurate   \n",
       "91528    9.749026          85  279009725    Accurate   \n",
       "...           ...         ...        ...         ...   \n",
       "93574  335.371400          90  279012188  Inaccurate   \n",
       "93575  370.510881          35  279012184    Accurate   \n",
       "93576  372.467025          90  279012185  Inaccurate   \n",
       "93577  421.460671          35  279012186    Accurate   \n",
       "93578  422.918426          90  279012187  Inaccurate   \n",
       "\n",
       "                          subEventDescription  xStart  xEnd  yStart  yEnd  \\\n",
       "91524                            generic play      50    35      51    41   \n",
       "91525                            generic play      35    32      41    64   \n",
       "91526                            generic play      32    33      64    42   \n",
       "91527                            generic play      33    26      42    30   \n",
       "91528                            generic play      26    45      30     9   \n",
       "...                                       ...     ...   ...     ...   ...   \n",
       "93574            goal position_goal_high_left       0    90       0    50   \n",
       "93575  goal right_foot position_goal_low_left      90     0      50     0   \n",
       "93576             goal position_goal_low_left     100    10     100    50   \n",
       "93577  goal right_foot position_goal_low_left      10   100      50   100   \n",
       "93578             goal position_goal_low_left       0    90       0    50   \n",
       "\n",
       "       attackMetres  \n",
       "91524           -15  \n",
       "91525            -3  \n",
       "91526             1  \n",
       "91527            -7  \n",
       "91528            19  \n",
       "...             ...  \n",
       "93574            90  \n",
       "93575           -90  \n",
       "93576           -90  \n",
       "93577            90  \n",
       "93578            90  \n",
       "\n",
       "[1843 rows x 16 columns]"
      ]
     },
     "execution_count": 32,
     "metadata": {},
     "output_type": "execute_result"
    }
   ],
   "source": [
    "df.loc[df['matchId'] == 2058012]"
   ]
  },
  {
   "cell_type": "code",
   "execution_count": 9,
   "metadata": {},
   "outputs": [],
   "source": [
    "World = pd.read_json('matches/matches_World_Cup.json')\n",
    "Italy = pd.read_json('matches/matches_Italy.json')\n",
    "Germany = pd.read_json('matches/matches_Germany.json')\n",
    "England = pd.read_json('matches/matches_England.json')\n",
    "France = pd.read_json('matches/matches_France.json')\n",
    "Spain = pd.read_json('matches/matches_Spain.json')\n",
    "Europe = pd.read_json('matches/matches_European_Championship.json')\n",
    "\n",
    "#Drop groupName column from World & Europe datasets first (so they can be combined properly further down)\n",
    "World.drop('groupName', inplace=True, axis=1)\n",
    "Europe.drop('groupName',inplace = True, axis =1)"
   ]
  },
  {
   "cell_type": "code",
   "execution_count": 10,
   "metadata": {},
   "outputs": [],
   "source": [
    "#Add another column with country (so that when we combine all databases we can seperate based on league)\n",
    "World['Country'] = 'World'\n",
    "Italy['Country'] = 'Italy'\n",
    "Germany['Country'] = 'Germany'\n",
    "England['Country'] = 'England'\n",
    "France['Country'] = 'France'\n",
    "Spain['Country'] = 'Spain'\n",
    "Europe['Country'] = 'Europe'"
   ]
  },
  {
   "cell_type": "code",
   "execution_count": 11,
   "metadata": {},
   "outputs": [],
   "source": [
    "Teams = pd.read_json('teams.json')\n",
    "Players = pd.read_json('players.json')"
   ]
  },
  {
   "cell_type": "code",
   "execution_count": 13,
   "metadata": {},
   "outputs": [],
   "source": [
    "os.chdir('/Users/Yuval/Desktop/Pawsey/data/events/')\n",
    "Events_France = pd.read_json('events_France.json')\n",
    "Events_Spain = pd.read_json('events_Spain.json')\n",
    "Events_Germany = pd.read_json('events_Germany.json')\n",
    "Events_Europe = pd.read_json('events_European_Championship.json')\n",
    "Events_World = pd.read_json('events_World_Cup.json')\n",
    "Events_Italy = pd.read_json('events_Italy.json')\n",
    "Events_England = pd.read_json('events_England.json')\n",
    "os.chdir('/Users/Yuval/Desktop/Pawsey/data/')"
   ]
  },
  {
   "cell_type": "code",
   "execution_count": 14,
   "metadata": {},
   "outputs": [],
   "source": [
    "Matches = pd.concat([England, France, Italy, Spain, Germany, World, Europe], ignore_index=True)"
   ]
  },
  {
   "cell_type": "code",
   "execution_count": 15,
   "metadata": {},
   "outputs": [],
   "source": [
    "#Rename wyId (wyscout ID's) to more descriptive terms\n",
    "Players = Players.rename(columns ={'wyId': 'playerId'})\n",
    "Teams = Teams.rename(columns = {'wyId': 'teamId'})\n",
    "Players = Players.rename(columns = {'currentTeamId': 'teamId'})"
   ]
  },
  {
   "cell_type": "code",
   "execution_count": 16,
   "metadata": {},
   "outputs": [],
   "source": [
    "Events = pd.concat([Events_France, Events_Spain, Events_Germany, \n",
    "                    Events_Europe, Events_World,Events_Italy,Events_England], ignore_index = True)"
   ]
  },
  {
   "cell_type": "code",
   "execution_count": 18,
   "metadata": {},
   "outputs": [],
   "source": [
    "# add columns for additional match statistics\n",
    "for name in [\"Score\", \"ScoreHT\", \"ScoreET\", \"ScoreP\"]:\n",
    "    colname = \"home\" + name\n",
    "    colname2 = \"away\" + name\n",
    "    Matches[colname] = None\n",
    "    Matches[colname2] = None"
   ]
  },
  {
   "cell_type": "code",
   "execution_count": 19,
   "metadata": {},
   "outputs": [],
   "source": [
    "# parse Home and Away teams as features from nest dictionary\n",
    "teams = [list(x.keys()) for x in Matches.teamsData] # create two columns for identifying teams in match\n",
    "homeTeam, awayTeam = [],[]\n",
    "for game, team in enumerate(teams):\n",
    "    if Matches.teamsData[game:game+1][game][team[0]]['side'] == 'home':\n",
    "        homeTeam.append(team[0])\n",
    "        awayTeam.append(team[1])\n",
    "    else:\n",
    "        awayTeam.append(team[0])\n",
    "        homeTeam.append(team[1])"
   ]
  },
  {
   "cell_type": "code",
   "execution_count": 20,
   "metadata": {},
   "outputs": [],
   "source": [
    "def get_team_stats(df, team): # function to parse team match stats from dictionary embedded in column teamsData from the Matches dataframe\n",
    "    \n",
    "    Bench, Starters, Manager, Score, ScoreHT, ScoreET, ScoreP, teamId = [],[],[],[],[],[],[],[]\n",
    "    \n",
    "    for game in range(0, len(df)):\n",
    "\n",
    "        Bench.append(list(pd.DataFrame.from_dict(df.teamsData[game][team[game]]['formation']['bench'])['playerId']))\n",
    "        Starters.append(list(pd.DataFrame.from_dict(df.teamsData[game][team[game]]['formation']['lineup'])['playerId']))\n",
    "        Manager.append(df.teamsData[game][team[game]]['coachId'])\n",
    "        Score.append(df.teamsData[game][team[game]]['score'])\n",
    "        ScoreHT.append(df.teamsData[game][team[game]]['scoreHT'])\n",
    "        ScoreET.append(df.teamsData[game][team[game]]['scoreET'])\n",
    "        ScoreP.append(df.teamsData[game][team[game]]['scoreP'])\n",
    "        teamId.append(df.teamsData[game][team[game]]['teamId'])\n",
    "    \n",
    "    return Bench, Starters, Manager, Score, ScoreHT, ScoreET, ScoreP, teamId\n",
    "\n",
    "homeBench, homeStarters, homeManager, homeScore, homeScoreHT, homeScoreET, homeScoreP, homeTeamId = get_team_stats(Matches, homeTeam)\n",
    "awayBench, awayStarters, awayManager, awayScore, awayScoreHT, awayScoreET, awayScoreP, awayTeamId = get_team_stats(Matches, awayTeam)"
   ]
  },
  {
   "cell_type": "code",
   "execution_count": 21,
   "metadata": {},
   "outputs": [],
   "source": [
    "# Automating Bench Line Up Column Generation\n",
    "\n",
    "homeColNames = []\n",
    "for num in range(1,14): # add columns for home bench playerId\n",
    "     homeColNames.append(\"homeBenchPlayer\" + str(num))\n",
    "        \n",
    "awayColNames = []\n",
    "for num in range(1,14): # add columns for away bench playerId\n",
    "    awayColNames.append(\"awayBenchPlayer\" + str(num))"
   ]
  },
  {
   "cell_type": "code",
   "execution_count": 22,
   "metadata": {},
   "outputs": [
    {
     "data": {
      "text/plain": [
       "Counter({7: 1425, 6: 18, 5: 1, 8: 5, 12: 292, 10: 53, 11: 123, 9: 23, 13: 1})"
      ]
     },
     "execution_count": 22,
     "metadata": {},
     "output_type": "execute_result"
    }
   ],
   "source": [
    "# Inspecting bench counts as during errror handling reveals some matches had bench sizes of between 8 and 13 for certain fixtures\n",
    "import collections\n",
    "collections.Counter(list(map(lambda x: len(x), homeBench)))"
   ]
  },
  {
   "cell_type": "code",
   "execution_count": 23,
   "metadata": {},
   "outputs": [],
   "source": [
    "# Adding Bench Line Ups to DataFrame\n",
    "\n",
    "homeBench2 = pd.DataFrame(homeBench,columns=homeColNames)\n",
    "awayBench2 = pd.DataFrame(awayBench,columns=awayColNames)"
   ]
  },
  {
   "cell_type": "code",
   "execution_count": 24,
   "metadata": {},
   "outputs": [],
   "source": [
    "# Automating Starting Line Up Column Generation\n",
    "\n",
    "homeColNames =[]\n",
    "for num in range(1,12): # add columns for starting playerId\n",
    "     homeColNames.append(\"homePlayer\" + str(num))\n",
    "        \n",
    "awayColNames = []\n",
    "for num in range(1,12): # add columns for starting playerId\n",
    "    awayColNames.append(\"awayPlayer\" + str(num))"
   ]
  },
  {
   "cell_type": "code",
   "execution_count": 25,
   "metadata": {},
   "outputs": [],
   "source": [
    "# Joining starting line ups, benches to matches dataframe\n",
    "\n",
    "homeStarters2 = pd.DataFrame(homeStarters,\n",
    "     columns=homeColNames)\n",
    "awayStarters2 = pd.DataFrame(awayStarters,\n",
    "     columns=awayColNames)\n",
    "\n",
    "Matches = Matches.join([homeStarters2, awayStarters2, homeBench2, awayBench2])"
   ]
  },
  {
   "cell_type": "code",
   "execution_count": 26,
   "metadata": {},
   "outputs": [],
   "source": [
    "# add individual columns of match data\n",
    "Matches['homeManager'] = homeManager\n",
    "Matches['homeScore'] = homeScore\n",
    "Matches['homeScoreHT'] = homeScoreHT\n",
    "Matches['homeScoreET'] = homeScoreET\n",
    "Matches['homeScoreP'] = homeScoreP\n",
    "Matches['homeTeamId'] = homeTeamId\n",
    "Matches['awayManager'] = awayManager\n",
    "Matches['awayScore'] = awayScore\n",
    "Matches['awayScoreHT'] = awayScoreHT\n",
    "Matches['awayScoreET'] = awayScoreET\n",
    "Matches['awayScoreP'] = awayScoreP\n",
    "Matches['awayTeamId'] = awayTeamId"
   ]
  },
  {
   "cell_type": "code",
   "execution_count": 27,
   "metadata": {},
   "outputs": [],
   "source": [
    "Matches.drop([\"teamsData\"], inplace = True, axis = 1)"
   ]
  },
  {
   "cell_type": "code",
   "execution_count": 28,
   "metadata": {},
   "outputs": [],
   "source": [
    "# Classify Match Result as W, L or D for teams\n",
    "conditions = [\n",
    "    (Matches['winner'] == 0),\n",
    "    (Matches['winner'] == Matches['awayTeamId']),\n",
    "    (Matches['winner'] == Matches['homeTeamId'])\n",
    "    ]\n",
    "\n",
    "# create a list of the values we want to assign for each condition\n",
    "values = [0, -1, 1]\n",
    "\n",
    "# create a new column and use np.select to assign values to it using our lists as arguments\n",
    "Matches['Result'] = np.select(conditions, values)"
   ]
  },
  {
   "cell_type": "code",
   "execution_count": 29,
   "metadata": {},
   "outputs": [],
   "source": [
    "Matches[\"date\"] = pd.to_datetime(Matches['dateutc']).dt.date # create a date column for Matches dataframe"
   ]
  },
  {
   "cell_type": "code",
   "execution_count": 30,
   "metadata": {},
   "outputs": [],
   "source": [
    "Matches[\"time\"] = pd.to_datetime(Matches['dateutc']).dt.time # create a time column for Matches dataframe"
   ]
  },
  {
   "cell_type": "code",
   "execution_count": 31,
   "metadata": {},
   "outputs": [],
   "source": [
    "# Prelim Dimensionality Reduction\n",
    "cols2Drop = ['status', 'roundId', 'gameweek', 'dateutc', 'label', 'referees', 'homeManager', 'seasonId']\n",
    "Matches.drop(cols2Drop, inplace=True, axis =1)\n",
    "Matches.drop(['winner', 'date', 'time'], inplace = True, axis =1)"
   ]
  },
  {
   "cell_type": "code",
   "execution_count": 32,
   "metadata": {},
   "outputs": [],
   "source": [
    "Matches.rename(columns={'wyId':'matchId'}, inplace=True)"
   ]
  },
  {
   "cell_type": "code",
   "execution_count": 33,
   "metadata": {},
   "outputs": [],
   "source": [
    "Matches = Matches.fillna(0) # fill bench7players with Ids = 0 in order to prevent program crashing"
   ]
  },
  {
   "cell_type": "code",
   "execution_count": 34,
   "metadata": {},
   "outputs": [],
   "source": [
    "# Decroos Github\n",
    "tags = [\n",
    "    (101, \"goal\"),\n",
    "    (102, \"own_goal\"),\n",
    "    (301, \"assist\"),\n",
    "    (302, \"key_pass\"),\n",
    "    (1901, \"counter_attack\"),\n",
    "    (401, \"left_foot\"),\n",
    "    (402, \"right_foot\"),\n",
    "    (403, \"head/body\"),\n",
    "    (1101, \"direct\"),\n",
    "    (1102, \"indirect\"),\n",
    "    (2001, \"dangerous_ball_lost\"),\n",
    "    (2101, \"blocked\"),\n",
    "    (801, \"high\"),\n",
    "    (802, \"low\"),\n",
    "    (1401, \"interception\"),\n",
    "    (1501, \"clearance\"),\n",
    "    (201, \"opportunity\"),\n",
    "    (1301, \"feint\"),\n",
    "    (1302, \"missed_ball\"),\n",
    "    (501, \"free_space_right\"),\n",
    "    (502, \"free_space_left\"),\n",
    "    (503, \"take_on_left\"),\n",
    "    (504, \"take_on_right\"),\n",
    "    (1601, \"sliding_tackle\"),\n",
    "    (601, \"anticipated\"),\n",
    "    (602, \"anticipation\"),\n",
    "    (1701, \"red_card\"),\n",
    "    (1702, \"yellow_card\"),\n",
    "    (1703, \"second_yellow_card\"),\n",
    "    (1201, \"position_goal_low_center\"),\n",
    "    (1202, \"position_goal_low_right\"),\n",
    "    (1203, \"position_goal_mid_center\"),\n",
    "    (1204, \"position_goal_mid_left\"),\n",
    "    (1205, \"position_goal_low_left\"),\n",
    "    (1206, \"position_goal_mid_right\"),\n",
    "    (1207, \"position_goal_high_center\"),\n",
    "    (1208, \"position_goal_high_left\"),\n",
    "    (1209, \"position_goal_high_right\"),\n",
    "    (1210, \"position_out_low_right\"),\n",
    "    (1211, \"position_out_mid_left\"),\n",
    "    (1212, \"position_out_low_left\"),\n",
    "    (1213, \"position_out_mid_right\"),\n",
    "    (1214, \"position_out_high_center\"),\n",
    "    (1215, \"position_out_high_left\"),\n",
    "    (1216, \"position_out_high_right\"),\n",
    "    (1217, \"position_post_low_right\"),\n",
    "    (1218, \"position_post_mid_left\"),\n",
    "    (1219, \"position_post_low_left\"),\n",
    "    (1220, \"position_post_mid_right\"),\n",
    "    (1221, \"position_post_high_center\"),\n",
    "    (1222, \"position_post_high_left\"),\n",
    "    (1223, \"position_post_high_right\"),\n",
    "    (901, \"through\"),\n",
    "    (1001, \"fairplay\"),\n",
    "    (701, \"lost\"),\n",
    "    (702, \"neutral\"),\n",
    "    (703, \"won\"),\n",
    "    (1801, \"accurate\"),\n",
    "    (1802, \"not_accurate\"),\n",
    "]\n",
    "\n",
    "\n",
    "tags = dict(tags)"
   ]
  },
  {
   "cell_type": "code",
   "execution_count": 35,
   "metadata": {},
   "outputs": [],
   "source": [
    "# Store event type tags ids in new column\n",
    "def event_tags(event_df):\n",
    "    event_tags = []\n",
    "    for ids in list(event_df['tags']):\n",
    "        event_tags.append(list(map(lambda y: tags[y['id']], ids)))\n",
    "\n",
    "    event_df['event_tags'] = event_tags\n",
    "    return event_df"
   ]
  },
  {
   "cell_type": "code",
   "execution_count": 36,
   "metadata": {},
   "outputs": [],
   "source": [
    "def RunningTime(event_df):\n",
    "    # Solution to convert second half time into \n",
    "    secs_to_add = list(event_df[event_df['matchPeriod']==\"1H\"].groupby('matchId').tail(1)['eventSec'])\n",
    "    match_ids = list(event_df[\"matchId\"].unique())\n",
    "\n",
    "    for idx in range(0, len(match_ids)):\n",
    "        event_df['eventSec'] = list(np.where(\n",
    "           (event_df['matchId'] == match_ids[idx]) & (event_df['matchPeriod'] == \"2H\") , event_df['eventSec'] + secs_to_add[idx], event_df['eventSec']\n",
    "           ))\n",
    "    return event_df"
   ]
  },
  {
   "cell_type": "code",
   "execution_count": 37,
   "metadata": {},
   "outputs": [],
   "source": [
    "# Clean the result of the action\n",
    "def Result(event_df):\n",
    "    result = []\n",
    "    for tag in event_df[\"event_tags\"]:\n",
    "        if \"accurate\" in tag:\n",
    "            result.append(\"Accurate\")\n",
    "        elif \"not_accurate\" in tag:\n",
    "            result.append(\"Inaccurate\")\n",
    "        else:\n",
    "            result.append(\"\")\n",
    "    event_df[\"Result\"] = result \n",
    "    return event_df"
   ]
  },
  {
   "cell_type": "code",
   "execution_count": 38,
   "metadata": {},
   "outputs": [],
   "source": [
    "# Separating description from success/failure of an action (event)\n",
    "def event_description(event_df):\n",
    "    subEventDescr = []\n",
    "    for tag in event_df[\"event_tags\"]:\n",
    "        descr = \" \".join(tag[:-1])\n",
    "        if descr != \"\":\n",
    "            subEventDescr.append(descr)\n",
    "        else:\n",
    "            subEventDescr.append(\"generic play\")\n",
    "    event_df[\"subEventDescription\"] = subEventDescr\n",
    "    event_df = event_df[(event_df[\"event_tags\"].str.len() != 0) & (event_df.subEventName != 'Ball out of the field')  & (event_df.subEventName != 'Goal kick')  ]\n",
    "    event_df = event_df[event_df[\"subEventName\"] != \"Throw in\"] # remove throw-ins as a relevant feature among successful teams for simpler analysis, unless its Rory Delap!\n",
    "    return event_df"
   ]
  },
  {
   "cell_type": "code",
   "execution_count": 39,
   "metadata": {},
   "outputs": [],
   "source": [
    "def Locations(event_df):\n",
    "\n",
    "    xStart,xEnd,yStart,yEnd = [], [], [], []\n",
    "    for pos in event_df[\"positions\"]:\n",
    "        if len(pos) == 2:\n",
    "            xStart.append(pos[0]['x'])\n",
    "            xEnd.append(pos[1]['x'])\n",
    "            yStart.append(pos[0]['y'])\n",
    "            yEnd.append(pos[1]['y'])\n",
    "        else:\n",
    "            xStart.append(pos[0]['x'])\n",
    "            xEnd.append(pos[0]['x'])\n",
    "            yStart.append(pos[0]['y'])\n",
    "            yEnd.append(pos[0]['y'])\n",
    "\n",
    "\n",
    "    event_df['xStart'], event_df['xEnd'], event_df['yStart'], event_df['yEnd'] = xStart, xEnd, yStart, yEnd\n",
    "    return event_df"
   ]
  },
  {
   "cell_type": "code",
   "execution_count": 40,
   "metadata": {},
   "outputs": [],
   "source": [
    "# function to transform an event data frame\n",
    "def event_df_transform(event_df):\n",
    "    event_df = event_tags(event_df)\n",
    "    event_df = Result(event_df)\n",
    "    event_df = event_description(event_df)\n",
    "    event_df = Locations(event_df)\n",
    "    event_df.drop(['positions', \"event_tags\", \"tags\", \"eventName\"], inplace = True, axis = 1) #'id'\n",
    "    event_df = event_df[event_df.subEventName != \"\"]\n",
    "    event_df = event_df[event_df['playerId']!= 0]\n",
    "    #event_df = RunningTime(event_df)\n",
    "    event_df['attackMetres'] = event_df['xEnd'] - event_df['xStart']\n",
    "    return event_df\n",
    "\n",
    "# stopped remove eventId"
   ]
  },
  {
   "cell_type": "code",
   "execution_count": 56,
   "metadata": {},
   "outputs": [],
   "source": [
    "os.chdir('/Users/Yuval/Desktop/Pawsey/data/events/')\n",
    "e = os.listdir()"
   ]
  },
  {
   "cell_type": "code",
   "execution_count": 58,
   "metadata": {},
   "outputs": [
    {
     "name": "stdout",
     "output_type": "stream",
     "text": [
      "events_France.json\n",
      "events_Spain.json\n",
      "events_Germany.json\n",
      "events_European_Championship.json\n",
      "events_World_Cup.json\n",
      "events_Italy.json\n",
      "events_England.json\n"
     ]
    }
   ],
   "source": [
    "for item in e:\n",
    "    print(item)\n",
    "    df = pd.read_json(item)\n",
    "    event= event_df_transform(df)\n",
    "    \n",
    "    event.to_json('/Users/Yuval/Desktop/Pawsey/data/cleaned_events/cleaned_'+item)"
   ]
  },
  {
   "cell_type": "code",
   "execution_count": 63,
   "metadata": {},
   "outputs": [],
   "source": [
    "worldevent = event_df_transform(Events_World)"
   ]
  },
  {
   "cell_type": "code",
   "execution_count": 74,
   "metadata": {},
   "outputs": [],
   "source": [
    "pd.set_option('max_columns', None)"
   ]
  }
 ],
 "metadata": {
  "kernelspec": {
   "display_name": "Python 3",
   "language": "python",
   "name": "python3"
  },
  "language_info": {
   "codemirror_mode": {
    "name": "ipython",
    "version": 3
   },
   "file_extension": ".py",
   "mimetype": "text/x-python",
   "name": "python",
   "nbconvert_exporter": "python",
   "pygments_lexer": "ipython3",
   "version": "3.7.4"
  }
 },
 "nbformat": 4,
 "nbformat_minor": 2
}
