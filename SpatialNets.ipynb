{
 "cells": [
  {
   "cell_type": "markdown",
   "metadata": {},
   "source": [
    "## Spatial Nets"
   ]
  },
  {
   "cell_type": "code",
   "execution_count": 31,
   "metadata": {},
   "outputs": [],
   "source": [
    "# Import necessary libraries\n",
    "import pandas as pd\n",
    "import networkx as nx\n",
    "import os\n",
    "import matplotlib.pyplot as plt\n",
    "import numpy as np\n",
    "import math\n",
    "import matplotlib.cm as mplcm\n",
    "import matplotlib.colors as colors"
   ]
  },
  {
   "cell_type": "code",
   "execution_count": 32,
   "metadata": {},
   "outputs": [],
   "source": [
    "## Import up sound alert dependencies\n",
    "from IPython.display import Audio, display\n",
    "\n",
    "def allDone():\n",
    "    display(Audio(url='https://sound.peal.io/ps/audios/000/000/537/original/woo_vu_luvub_dub_dub.wav', autoplay=True))\n",
    "## Insert whatever audio file you want above"
   ]
  },
  {
   "cell_type": "code",
   "execution_count": 33,
   "metadata": {},
   "outputs": [],
   "source": [
    "# Navigate to the relevant directory\n",
    "os.chdir('/Users/Yuval/Desktop/Pawsey/data/')"
   ]
  },
  {
   "cell_type": "code",
   "execution_count": 94,
   "metadata": {},
   "outputs": [],
   "source": [
    "df = pd.read_json('cleaned_events/cleaned_events_Spain.json')\n",
    "df = df.loc[df['matchId'] == 2565711]"
   ]
  },
  {
   "cell_type": "code",
   "execution_count": 95,
   "metadata": {},
   "outputs": [],
   "source": [
    "def event_handling(df):\n",
    "    # Cleans things up based on our interpretation of the events and how they relate to passes. Note the meaning of\n",
    "    # the events:\n",
    "    # 1 - duels (this is a hard one to define as it means many different things)\n",
    "    # 2 - fouls\n",
    "    # 3 - free kicks / corners (hence we add a node so that it picks these up as the first play in the chain)\n",
    "    # 4 - keeper leaving their line\n",
    "    # 7 - Touch, acceletation or clearance\n",
    "    # 8 - Pass - simple/smart, cross (main data we're after for this)\n",
    "    # 9 - Reflexes / save (however if tagged as inaccurate it means there was a goal)\n",
    "    # 10- Shot (add a shot node)\n",
    "    \n",
    "    df = df.loc[ df['eventId'] != 9]\n",
    "    df = df.loc[ df['eventId'] != 2]\n",
    "    df = df.loc[ df['eventId'] != 4]\n",
    "    df = df.loc[ (df['eventId'] != 1) | (df['Result'] == 'Accurate')]\n",
    "    df = df.loc[ df['eventId'] != 7]\n",
    "    \n",
    "    #Check this later\n",
    "    df = df.loc[df['attackMetres'] >= -30]\n",
    "\n",
    "    # Create some new columns to see where passes ended up etc\n",
    "    #df[\"next_event\"] = df['eventId'].shift(-1)\n",
    "    #df[\"next_teamId\"] = df[\"teamId\"].shift(-1)\n",
    "    #df[\"next_player\"] = df[\"shortName\"].shift(-1)\n",
    "    #df.loc[ df[\"next_event\"] == 3, 'next_player'] = 0.5\n",
    "    #df.loc[ df[\"eventId\"] == 10, 'next_player'] = 0\n",
    "    \n",
    "    return df"
   ]
  },
  {
   "cell_type": "code",
   "execution_count": 96,
   "metadata": {},
   "outputs": [],
   "source": [
    "df = event_handling(df)"
   ]
  },
  {
   "cell_type": "code",
   "execution_count": 97,
   "metadata": {},
   "outputs": [
    {
     "data": {
      "text/html": [
       "<div>\n",
       "<style scoped>\n",
       "    .dataframe tbody tr th:only-of-type {\n",
       "        vertical-align: middle;\n",
       "    }\n",
       "\n",
       "    .dataframe tbody tr th {\n",
       "        vertical-align: top;\n",
       "    }\n",
       "\n",
       "    .dataframe thead th {\n",
       "        text-align: right;\n",
       "    }\n",
       "</style>\n",
       "<table border=\"1\" class=\"dataframe\">\n",
       "  <thead>\n",
       "    <tr style=\"text-align: right;\">\n",
       "      <th></th>\n",
       "      <th>eventId</th>\n",
       "      <th>subEventName</th>\n",
       "      <th>playerId</th>\n",
       "      <th>matchId</th>\n",
       "      <th>teamId</th>\n",
       "      <th>matchPeriod</th>\n",
       "      <th>eventSec</th>\n",
       "      <th>subEventId</th>\n",
       "      <th>id</th>\n",
       "      <th>Result</th>\n",
       "      <th>subEventDescription</th>\n",
       "      <th>xStart</th>\n",
       "      <th>xEnd</th>\n",
       "      <th>yStart</th>\n",
       "      <th>yEnd</th>\n",
       "      <th>attackMetres</th>\n",
       "    </tr>\n",
       "  </thead>\n",
       "  <tbody>\n",
       "    <tr>\n",
       "      <td>267225</td>\n",
       "      <td>8</td>\n",
       "      <td>Simple pass</td>\n",
       "      <td>7972</td>\n",
       "      <td>2565711</td>\n",
       "      <td>676</td>\n",
       "      <td>1H</td>\n",
       "      <td>5.040873</td>\n",
       "      <td>85</td>\n",
       "      <td>216986174</td>\n",
       "      <td>Accurate</td>\n",
       "      <td>generic play</td>\n",
       "      <td>49</td>\n",
       "      <td>38</td>\n",
       "      <td>50</td>\n",
       "      <td>43</td>\n",
       "      <td>-11</td>\n",
       "    </tr>\n",
       "    <tr>\n",
       "      <td>267226</td>\n",
       "      <td>8</td>\n",
       "      <td>Simple pass</td>\n",
       "      <td>3346</td>\n",
       "      <td>2565711</td>\n",
       "      <td>676</td>\n",
       "      <td>1H</td>\n",
       "      <td>6.817835</td>\n",
       "      <td>85</td>\n",
       "      <td>216986175</td>\n",
       "      <td>Accurate</td>\n",
       "      <td>generic play</td>\n",
       "      <td>38</td>\n",
       "      <td>28</td>\n",
       "      <td>43</td>\n",
       "      <td>65</td>\n",
       "      <td>-10</td>\n",
       "    </tr>\n",
       "    <tr>\n",
       "      <td>267227</td>\n",
       "      <td>8</td>\n",
       "      <td>Simple pass</td>\n",
       "      <td>3341</td>\n",
       "      <td>2565711</td>\n",
       "      <td>676</td>\n",
       "      <td>1H</td>\n",
       "      <td>9.226385</td>\n",
       "      <td>85</td>\n",
       "      <td>216986176</td>\n",
       "      <td>Accurate</td>\n",
       "      <td>generic play</td>\n",
       "      <td>28</td>\n",
       "      <td>27</td>\n",
       "      <td>65</td>\n",
       "      <td>39</td>\n",
       "      <td>-1</td>\n",
       "    </tr>\n",
       "    <tr>\n",
       "      <td>267228</td>\n",
       "      <td>8</td>\n",
       "      <td>Simple pass</td>\n",
       "      <td>7860</td>\n",
       "      <td>2565711</td>\n",
       "      <td>676</td>\n",
       "      <td>1H</td>\n",
       "      <td>11.371455</td>\n",
       "      <td>85</td>\n",
       "      <td>216986177</td>\n",
       "      <td>Accurate</td>\n",
       "      <td>generic play</td>\n",
       "      <td>27</td>\n",
       "      <td>25</td>\n",
       "      <td>39</td>\n",
       "      <td>13</td>\n",
       "      <td>-2</td>\n",
       "    </tr>\n",
       "    <tr>\n",
       "      <td>267229</td>\n",
       "      <td>8</td>\n",
       "      <td>Simple pass</td>\n",
       "      <td>3269</td>\n",
       "      <td>2565711</td>\n",
       "      <td>676</td>\n",
       "      <td>1H</td>\n",
       "      <td>12.875549</td>\n",
       "      <td>85</td>\n",
       "      <td>216986178</td>\n",
       "      <td>Accurate</td>\n",
       "      <td>generic play</td>\n",
       "      <td>25</td>\n",
       "      <td>37</td>\n",
       "      <td>13</td>\n",
       "      <td>37</td>\n",
       "      <td>12</td>\n",
       "    </tr>\n",
       "  </tbody>\n",
       "</table>\n",
       "</div>"
      ],
      "text/plain": [
       "        eventId subEventName  playerId  matchId  teamId matchPeriod  \\\n",
       "267225        8  Simple pass      7972  2565711     676          1H   \n",
       "267226        8  Simple pass      3346  2565711     676          1H   \n",
       "267227        8  Simple pass      3341  2565711     676          1H   \n",
       "267228        8  Simple pass      7860  2565711     676          1H   \n",
       "267229        8  Simple pass      3269  2565711     676          1H   \n",
       "\n",
       "         eventSec  subEventId         id    Result subEventDescription  \\\n",
       "267225   5.040873          85  216986174  Accurate        generic play   \n",
       "267226   6.817835          85  216986175  Accurate        generic play   \n",
       "267227   9.226385          85  216986176  Accurate        generic play   \n",
       "267228  11.371455          85  216986177  Accurate        generic play   \n",
       "267229  12.875549          85  216986178  Accurate        generic play   \n",
       "\n",
       "        xStart  xEnd  yStart  yEnd  attackMetres  \n",
       "267225      49    38      50    43           -11  \n",
       "267226      38    28      43    65           -10  \n",
       "267227      28    27      65    39            -1  \n",
       "267228      27    25      39    13            -2  \n",
       "267229      25    37      13    37            12  "
      ]
     },
     "execution_count": 97,
     "metadata": {},
     "output_type": "execute_result"
    }
   ],
   "source": [
    "df.head()"
   ]
  },
  {
   "cell_type": "code",
   "execution_count": 98,
   "metadata": {},
   "outputs": [],
   "source": [
    "#Define the zones\n",
    "\n",
    "def zones(event_df, start_or_end):\n",
    "\n",
    "    conditions = [\n",
    "            (((event_df['x'+ start_or_end] < 16.5)& (event_df['x'+ start_or_end] >= 0) & (event_df['y'+ start_or_end] >= 0)& (event_df['y'+ start_or_end] <= 25))),\n",
    "            (((event_df['x'+ start_or_end] < 16.5)& (event_df['x'+ start_or_end] >= 0) & (event_df['y'+ start_or_end] > 25)& (event_df['y'+ start_or_end] <= 36))),\n",
    "            (((event_df['x'+ start_or_end] < 16.5)& (event_df['x'+ start_or_end] >= 0) & (event_df['y'+ start_or_end] > 36)& (event_df['y'+ start_or_end] <= 64))),\n",
    "            (((event_df['x'+ start_or_end] < 16.5)& (event_df['x'+ start_or_end] >= 0) & (event_df['y'+ start_or_end] > 64)& (event_df['y'+ start_or_end] <= 75))),\n",
    "            (((event_df['x'+ start_or_end] < 16.5)& (event_df['x'+ start_or_end] >= 0) & (event_df['y'+ start_or_end] > 75)& (event_df['y'+ start_or_end] <= 100))),\n",
    "        \n",
    "            (((event_df['x'+ start_or_end] <= 33)& (event_df['x'+ start_or_end] >= 16.5) & (event_df['y'+ start_or_end] >= 0)& (event_df['y'+ start_or_end] <=  25))),\n",
    "            (((event_df['x'+ start_or_end] <= 33)& (event_df['x'+ start_or_end] >= 16.5) & (event_df['y'+ start_or_end] > 25)& (event_df['y'+ start_or_end] <=  50))),\n",
    "            (((event_df['x'+ start_or_end] <= 33)& (event_df['x'+ start_or_end] >= 16.5) & (event_df['y'+ start_or_end] > 50)& (event_df['y'+ start_or_end] <=  75))),\n",
    "            (((event_df['x'+ start_or_end] <= 33)& (event_df['x'+ start_or_end] >= 16.5) & (event_df['y'+ start_or_end] > 75)& (event_df['y'+ start_or_end] <=  100))),\n",
    "            (((event_df['x'+ start_or_end] <= 50)& (event_df['x'+ start_or_end] > 33) & (event_df['y'+ start_or_end] >= 0))& (event_df['y'+ start_or_end] <=  25)),\n",
    "            (((event_df['x'+ start_or_end] <= 50)& (event_df['x'+ start_or_end] > 33) & (event_df['y'+ start_or_end] > 25)& (event_df['y'+ start_or_end] <=  50))),\n",
    "            (((event_df['x'+ start_or_end] <= 50)& (event_df['x'+ start_or_end] > 33) & (event_df['y'+ start_or_end] > 50)& (event_df['y'+ start_or_end] <=  75))),\n",
    "            (((event_df['x'+ start_or_end] <= 50)& (event_df['x'+ start_or_end] > 33) & (event_df['y'+ start_or_end] > 75)& (event_df['y'+ start_or_end] <=  100))),\n",
    "            (((event_df['x'+ start_or_end] <= 67)& (event_df['x'+ start_or_end] > 50) & (event_df['y'+ start_or_end] >= 0)& (event_df['y'+ start_or_end] <= 25))),\n",
    "            (((event_df['x'+ start_or_end] <= 67)& (event_df['x'+ start_or_end] > 50) & (event_df['y'+ start_or_end] > 25)& (event_df['y'+ start_or_end] <=  50))),\n",
    "            (((event_df['x'+ start_or_end] <= 67)& (event_df['x'+ start_or_end] > 50) & (event_df['y'+ start_or_end] > 50)& (event_df['y'+ start_or_end] <= 75))),\n",
    "            (((event_df['x'+ start_or_end] <= 67)& (event_df['x'+ start_or_end] > 50) & (event_df['y'+ start_or_end] > 75)& (event_df['y'+ start_or_end] <= 100))),\n",
    "            (((event_df['x'+ start_or_end] < 83.5)& (event_df['x'+ start_or_end] > 67) & (event_df['y'+ start_or_end] >= 0)& (event_df['y'+ start_or_end] <= 25))),\n",
    "            (((event_df['x'+ start_or_end] < 83.5)& (event_df['x'+ start_or_end] > 67) & (event_df['y'+ start_or_end] > 25)& (event_df['y'+ start_or_end] <= 50))),\n",
    "            (((event_df['x'+ start_or_end] < 83.5)& (event_df['x'+ start_or_end] > 67) & (event_df['y'+ start_or_end] > 50)& (event_df['y'+ start_or_end] <= 75))),\n",
    "            (((event_df['x'+ start_or_end] < 83.5)& (event_df['x'+ start_or_end] > 67) & (event_df['y'+ start_or_end] > 75)& (event_df['y'+ start_or_end] <= 100))),\n",
    "        \n",
    "            (((event_df['x'+ start_or_end] <= 100) & (event_df['x'+ start_or_end] > 83.5) & (event_df['y'+ start_or_end] >= 0) & (event_df['y'+ start_or_end] <= 25))),\n",
    "            (((event_df['x'+ start_or_end] <= 100) & (event_df['x'+ start_or_end] > 83.5) & (event_df['y'+ start_or_end] > 25) & (event_df['y'+ start_or_end] <=  36))),\n",
    "            (((event_df['x'+ start_or_end] <= 100) & (event_df['x'+ start_or_end] > 83.5) & (event_df['y'+ start_or_end] > 36) & (event_df['y'+ start_or_end] <= 64))),\n",
    "            (((event_df['x'+ start_or_end] <= 100) & (event_df['x'+ start_or_end] > 83.5) & (event_df['y'+ start_or_end] > 64) & (event_df['y'+ start_or_end] <= 75))),\n",
    "            (((event_df['x'+ start_or_end] <= 100) & (event_df['x'+ start_or_end] > 83.5) & (event_df['y'+ start_or_end] > 75) & (event_df['y'+ start_or_end] <= 100)))\n",
    "            ]\n",
    "\n",
    "    # create a list of the values we want to assign for each condition\n",
    "    values = [1,2,3,4,5,6,7,8,9,10,11,12,13,14,15,16,17,18,19,20,21,22,23,24,25,26]\n",
    "\n",
    "    # create a new column and us np.select to assign values to it using our lists as arguments\n",
    "    event_df['Zone'+ start_or_end] = np.select(conditions, values)\n",
    "    \n",
    "    return event_df\n"
   ]
  },
  {
   "cell_type": "code",
   "execution_count": 99,
   "metadata": {},
   "outputs": [],
   "source": [
    "def transitions(df, teamIds):\n",
    "    \n",
    "    # Create a Transitions column which has the start and end zones\n",
    "    df['Transition'] = list(zip(df['ZoneStart'], df['ZoneEnd']))\n",
    "    \n",
    "    # Get a transition list for each team\n",
    "    trans = []\n",
    "    for team in teamIds:    \n",
    "        temp = df.loc[df['teamId'] == team]\n",
    "        trans.append(list(temp['Transition']))\n",
    "\n",
    "    return trans[0], trans[1]"
   ]
  },
  {
   "cell_type": "code",
   "execution_count": 101,
   "metadata": {},
   "outputs": [],
   "source": [
    "def weighted_passes(passes):\n",
    "    # Builds a network for the team based on the passes as edges\n",
    "    n = nx.DiGraph()\n",
    "    for (i,j) in passes:\n",
    "        if n.has_edge(i,j):\n",
    "            n[i][j]['weight'] += 1\n",
    "        else:\n",
    "            n.add_edge(i,j, weight = 1)\n",
    "    \n",
    "    # Remove node 0.5 as only used to signify start of plays from free kicks / corners\n",
    "    if 0.5 in n.nodes():\n",
    "        n.remove_node(0.5)\n",
    "        \n",
    "    return n"
   ]
  },
  {
   "cell_type": "code",
   "execution_count": 102,
   "metadata": {},
   "outputs": [],
   "source": [
    "def continuous_time(df):\n",
    "    # Converts to a continuous 90 min (ie 90*60 = 5400 second) game\n",
    "    firsthalf = df.loc[df['matchPeriod'] == '1H']\n",
    "    first_half_length = list(firsthalf['eventSec'])[-1]\n",
    "    df.loc[ df.matchPeriod == '2H' , 'eventSec'] += first_half_length\n",
    "    return df"
   ]
  },
  {
   "cell_type": "code",
   "execution_count": 103,
   "metadata": {},
   "outputs": [],
   "source": [
    "def sliding_window(df, teams):\n",
    "    # This function iterates sliding 10 minute windows, moving forward by 30 seconds each time and calculate a \n",
    "    # team's entropy during that 30 second window\n",
    "\n",
    "    metrics1 = []\n",
    "    metrics2 = []\n",
    "    \n",
    "    # Iterate sliding windows over the game length\n",
    "    for i in range(0,int(list(df['eventSec'])[-1])-600,30):\n",
    "        \n",
    "        # locate the window in the database\n",
    "        temp_df = df.loc[df['eventSec'] < i + 600]\n",
    "        temp_df = temp_df.loc[temp_df['eventSec'] > i]\n",
    "        \n",
    "        # Get pass list, create a network, and find that network's entropy\n",
    "        trans1, trans2 = transitions(temp_df,teams)\n",
    "\n",
    "        net1 = weighted_passes(trans1)\n",
    "        net2 = weighted_passes(trans2)\n",
    "\n",
    "        # The team's total amount of passes during that 10 minute window \n",
    "        tot1 = 0\n",
    "        tot2 = 0\n",
    "        for item in list(net1.edges(data=True)):\n",
    "            tot1 += item[2]['weight']\n",
    "        for item in list(net2.edges(data=True)):\n",
    "            tot2 += item[2]['weight']\n",
    "        \n",
    "        \n",
    "        if tot1 > 0:\n",
    "            met1 = find_entropy(net1)\n",
    "        else:\n",
    "            met1 = 0\n",
    "        if tot2 > 0:\n",
    "            met2 = find_entropy(net2)\n",
    "        else:\n",
    "            met2 = 0\n",
    "            \n",
    "        metrics1.append(met1)\n",
    "        metrics2.append(met2)\n",
    "    \n",
    "    return metrics1[:160], metrics2[:160]"
   ]
  },
  {
   "cell_type": "code",
   "execution_count": 104,
   "metadata": {},
   "outputs": [],
   "source": [
    "df = continuous_time(df)\n",
    "\n",
    "df = zones(df, \"Start\")\n",
    "df = zones(df, \"End\")\n",
    "\n",
    "teams = list(set(df['teamId']))\n",
    "\n",
    "#trans1, trans2 = transitions(df,teams)\n",
    "met1, met2 = sliding_window(df,[675,676])"
   ]
  },
  {
   "cell_type": "code",
   "execution_count": 116,
   "metadata": {},
   "outputs": [],
   "source": [
    "minutes = [i/2 for i in range(10,170)]"
   ]
  },
  {
   "cell_type": "code",
   "execution_count": 117,
   "metadata": {},
   "outputs": [
    {
     "data": {
      "text/plain": [
       "160"
      ]
     },
     "execution_count": 117,
     "metadata": {},
     "output_type": "execute_result"
    }
   ],
   "source": [
    "len(met1)"
   ]
  },
  {
   "cell_type": "code",
   "execution_count": 119,
   "metadata": {},
   "outputs": [
    {
     "data": {
      "text/plain": [
       "[<matplotlib.lines.Line2D at 0x7fb8aff09890>]"
      ]
     },
     "execution_count": 119,
     "metadata": {},
     "output_type": "execute_result"
    },
    {
     "data": {
      "image/png": "[encoded data removed]",
      "text/plain": [
       "<Figure size 864x576 with 1 Axes>"
      ]
     },
     "metadata": {
      "needs_background": "light"
     },
     "output_type": "display_data"
    }
   ],
   "source": [
    "plt.figure(figsize = (12,8))\n",
    "plt.plot(minutes,met1)\n",
    "plt.plot(minutes,met2)"
   ]
  },
  {
   "cell_type": "code",
   "execution_count": 120,
   "metadata": {},
   "outputs": [],
   "source": [
    "temp_df = df.loc[df['eventSec'] < 3600]\n",
    "temp_df = temp_df.loc[temp_df['eventSec'] > 3000]\n",
    "\n",
    "trans1, trans2 = transitions(temp_df,teams)"
   ]
  },
  {
   "cell_type": "code",
   "execution_count": 121,
   "metadata": {},
   "outputs": [],
   "source": [
    "net1 = weighted_passes(trans1)\n",
    "net2 = weighted_passes(trans2)"
   ]
  },
  {
   "cell_type": "code",
   "execution_count": 43,
   "metadata": {},
   "outputs": [],
   "source": [
    "pos = {1: (8.25, 12.5), 2: (8.25, 30.5), 3: (8.25, 50), 4: (8.25, 69.5), 5: (8.25, 87.5), 6:(24.75, 12.5), \n",
    "       7: (24.75, 37.5), 8: (24.75, 62.5), 9: (24.75, 87.5), 10: (41.5,12.5), 11: (41.5, 37.5), 12: (41.5, 62.5),\n",
    "      13: (41.5, 87.5), 14: (58.5, 12.5), 15:(58.5, 37.5), 16: (58.5, 62.5), 17: (58.5, 87.5), 18: (75.25, 12.5),\n",
    "      19:(75.25,37.5), 20: (75.25, 62.5), 21: (75.25, 87.5), 22: (91.75, 12.5), 23:(91.75,30.5), 24:(91.75, 50), \n",
    "       25:(91.75, 69.5), 26: (91.75, 87.5)} "
   ]
  },
  {
   "cell_type": "code",
   "execution_count": 122,
   "metadata": {},
   "outputs": [
    {
     "data": {
      "image/png": "[encoded data removed]",
      "text/plain": [
       "<Figure size 432x288 with 1 Axes>"
      ]
     },
     "metadata": {},
     "output_type": "display_data"
    }
   ],
   "source": [
    "nx.draw(net1, with_labels = True, pos = pos, c = 'g')\n",
    "#sorted(dict(net1.degree()).items(), key=lambda x: x[1], reverse=True)"
   ]
  },
  {
   "cell_type": "code",
   "execution_count": 123,
   "metadata": {},
   "outputs": [
    {
     "data": {
      "image/png": "[encoded data removed]",
      "text/plain": [
       "<Figure size 432x288 with 1 Axes>"
      ]
     },
     "metadata": {},
     "output_type": "display_data"
    }
   ],
   "source": [
    "nx.draw(net2, with_labels = True, pos = pos)"
   ]
  },
  {
   "cell_type": "code",
   "execution_count": 126,
   "metadata": {},
   "outputs": [
    {
     "data": {
      "text/plain": [
       "0.0"
      ]
     },
     "execution_count": 126,
     "metadata": {},
     "output_type": "execute_result"
    }
   ],
   "source": [
    "find_entropy(net2)"
   ]
  },
  {
   "cell_type": "markdown",
   "metadata": {},
   "source": [
    "How is the above network only have an entropy of 0??????"
   ]
  },
  {
   "cell_type": "code",
   "execution_count": 46,
   "metadata": {
    "scrolled": false
   },
   "outputs": [
    {
     "data": {
      "text/plain": [
       "[(11, 25),\n",
       " (8, 25),\n",
       " (12, 25),\n",
       " (15, 25),\n",
       " (10, 23),\n",
       " (16, 23),\n",
       " (7, 21),\n",
       " (3, 21),\n",
       " (19, 21),\n",
       " (17, 20),\n",
       " (6, 19),\n",
       " (20, 19),\n",
       " (14, 18),\n",
       " (13, 18),\n",
       " (21, 17),\n",
       " (9, 14),\n",
       " (18, 14),\n",
       " (26, 13),\n",
       " (22, 12),\n",
       " (24, 10),\n",
       " (1, 9),\n",
       " (5, 8),\n",
       " (23, 8),\n",
       " (25, 8),\n",
       " (2, 7),\n",
       " (4, 5)]"
      ]
     },
     "execution_count": 46,
     "metadata": {},
     "output_type": "execute_result"
    }
   ],
   "source": [
    "sorted(dict(net2.degree()).items(), key=lambda x: x[1], reverse=True)"
   ]
  },
  {
   "cell_type": "code",
   "execution_count": 61,
   "metadata": {},
   "outputs": [
    {
     "name": "stdout",
     "output_type": "stream",
     "text": [
      "13 13\n",
      "21 21\n",
      "16 16\n",
      "6 6\n",
      "18 18\n",
      "19 19\n",
      "26 26\n",
      "24 24\n",
      "7 7\n",
      "10 10\n",
      "11 11\n",
      "8 8\n",
      "17 17\n",
      "12 12\n",
      "14 14\n",
      "22 22\n",
      "23 23\n",
      "15 15\n",
      "5 5\n",
      "9 9\n",
      "1 1\n",
      "3 3\n"
     ]
    }
   ],
   "source": [
    "for (i,j) in list(net1.edges()):\n",
    "    if i == j:\n",
    "        print(i,j)"
   ]
  },
  {
   "cell_type": "code",
   "execution_count": 47,
   "metadata": {},
   "outputs": [],
   "source": [
    "# Defines a function to calculate the entropy of each node from the transition matrix.\n",
    "def entropy(row):\n",
    "    enode = 0\n",
    "    for item in row:\n",
    "        if item > 0:\n",
    "            enode -= item * math.log10(item) # Entropy formula for each node.\n",
    "    return enode"
   ]
  },
  {
   "cell_type": "code",
   "execution_count": 48,
   "metadata": {},
   "outputs": [],
   "source": [
    "def find_entropy(net):\n",
    "    # This function attempts to calculate a team's entropy- i.e. their unpredictability.\n",
    "    \n",
    "    n = net\n",
    "    n = nx.relabel_nodes(n, {0:'ZZ'})\n",
    "    \n",
    "    # A stochastic graph gives the probabilities of connections between certain platers       \n",
    "    prob = nx.stochastic_graph(n)\n",
    "    \n",
    "    # Allows us to sort nodes alphabetically so that we can easily remove shot node later\n",
    "    playerlist = sorted(list(n.nodes()))\n",
    "    \n",
    "    # Generates transition matrix\n",
    "    probmat = nx.adjacency_matrix(prob, nodelist = playerlist)\n",
    "    probmat = probmat.todense()\n",
    "    matrix = np.array(probmat) # turns it into numpy array so that we can operate on it\n",
    "\n",
    "    entnode =  np.apply_along_axis( entropy, axis=1, arr = matrix ) # calculates entropy for each node\n",
    "\n",
    "    entnode = entnode[:-1] # Gets rid of entropy of shot node\n",
    "\n",
    "    entrop = sum(entnode)/len(n.nodes()) # Gets the average\n",
    "        \n",
    "    return entrop"
   ]
  },
  {
   "cell_type": "code",
   "execution_count": 49,
   "metadata": {},
   "outputs": [
    {
     "data": {
      "text/plain": [
       "0.6967504988148941"
      ]
     },
     "execution_count": 49,
     "metadata": {},
     "output_type": "execute_result"
    }
   ],
   "source": [
    "find_entropy(net1)"
   ]
  },
  {
   "cell_type": "code",
   "execution_count": 50,
   "metadata": {},
   "outputs": [
    {
     "data": {
      "text/plain": [
       "0.7359860678764409"
      ]
     },
     "execution_count": 50,
     "metadata": {},
     "output_type": "execute_result"
    }
   ],
   "source": [
    "find_entropy(net2)"
   ]
  },
  {
   "cell_type": "code",
   "execution_count": null,
   "metadata": {},
   "outputs": [],
   "source": [
    "# For some reason nx.draw() doesn't draw the self loops... don't know why :("
   ]
  },
  {
   "cell_type": "code",
   "execution_count": null,
   "metadata": {},
   "outputs": [],
   "source": []
  },
  {
   "cell_type": "code",
   "execution_count": null,
   "metadata": {},
   "outputs": [],
   "source": []
  },
  {
   "cell_type": "code",
   "execution_count": null,
   "metadata": {},
   "outputs": [],
   "source": []
  },
  {
   "cell_type": "code",
   "execution_count": null,
   "metadata": {},
   "outputs": [],
   "source": []
  },
  {
   "cell_type": "code",
   "execution_count": null,
   "metadata": {},
   "outputs": [],
   "source": []
  },
  {
   "cell_type": "code",
   "execution_count": null,
   "metadata": {},
   "outputs": [],
   "source": [
    "## Test some exception related tings"
   ]
  },
  {
   "cell_type": "code",
   "execution_count": 53,
   "metadata": {},
   "outputs": [
    {
     "data": {
      "text/html": [
       "<div>\n",
       "<style scoped>\n",
       "    .dataframe tbody tr th:only-of-type {\n",
       "        vertical-align: middle;\n",
       "    }\n",
       "\n",
       "    .dataframe tbody tr th {\n",
       "        vertical-align: top;\n",
       "    }\n",
       "\n",
       "    .dataframe thead th {\n",
       "        text-align: right;\n",
       "    }\n",
       "</style>\n",
       "<table border=\"1\" class=\"dataframe\">\n",
       "  <thead>\n",
       "    <tr style=\"text-align: right;\">\n",
       "      <th></th>\n",
       "      <th>eventId</th>\n",
       "      <th>subEventName</th>\n",
       "      <th>playerId</th>\n",
       "      <th>matchId</th>\n",
       "      <th>teamId</th>\n",
       "      <th>matchPeriod</th>\n",
       "      <th>eventSec</th>\n",
       "      <th>subEventId</th>\n",
       "      <th>id</th>\n",
       "      <th>Result</th>\n",
       "      <th>subEventDescription</th>\n",
       "      <th>xStart</th>\n",
       "      <th>xEnd</th>\n",
       "      <th>yStart</th>\n",
       "      <th>yEnd</th>\n",
       "      <th>attackMetres</th>\n",
       "      <th>ZoneStart</th>\n",
       "      <th>ZoneEnd</th>\n",
       "      <th>Transition</th>\n",
       "    </tr>\n",
       "  </thead>\n",
       "  <tbody>\n",
       "    <tr>\n",
       "      <td>267253</td>\n",
       "      <td>8</td>\n",
       "      <td>Cross</td>\n",
       "      <td>4501</td>\n",
       "      <td>2565711</td>\n",
       "      <td>675</td>\n",
       "      <td>1H</td>\n",
       "      <td>71.685097</td>\n",
       "      <td>80</td>\n",
       "      <td>216986242</td>\n",
       "      <td>Inaccurate</td>\n",
       "      <td>right_foot blocked</td>\n",
       "      <td>84</td>\n",
       "      <td>0</td>\n",
       "      <td>86</td>\n",
       "      <td>0</td>\n",
       "      <td>-84</td>\n",
       "      <td>26</td>\n",
       "      <td>1</td>\n",
       "      <td>(26, 1)</td>\n",
       "    </tr>\n",
       "  </tbody>\n",
       "</table>\n",
       "</div>"
      ],
      "text/plain": [
       "        eventId subEventName  playerId  matchId  teamId matchPeriod  \\\n",
       "267253        8        Cross      4501  2565711     675          1H   \n",
       "\n",
       "         eventSec  subEventId         id      Result subEventDescription  \\\n",
       "267253  71.685097          80  216986242  Inaccurate  right_foot blocked   \n",
       "\n",
       "        xStart  xEnd  yStart  yEnd  attackMetres  ZoneStart  ZoneEnd  \\\n",
       "267253      84     0      86     0           -84         26        1   \n",
       "\n",
       "       Transition  \n",
       "267253    (26, 1)  "
      ]
     },
     "execution_count": 53,
     "metadata": {},
     "output_type": "execute_result"
    }
   ],
   "source": [
    "temp = df.loc[df['ZoneStart'] == 26]\n",
    "temp.loc[temp['ZoneEnd']==1]"
   ]
  },
  {
   "cell_type": "code",
   "execution_count": 16,
   "metadata": {},
   "outputs": [],
   "source": [
    "zeros = df.loc[df['xEnd'] == 0]\n",
    "zeros = zeros.loc[zeros['yEnd'] == 0]\n",
    "zeros"
   ]
  },
  {
   "cell_type": "code",
   "execution_count": 66,
   "metadata": {},
   "outputs": [],
   "source": [
    "init = pd.read_json('events/events_Spain.json')\n",
    "init = init.loc[init['matchId'] == 2565711]"
   ]
  },
  {
   "cell_type": "code",
   "execution_count": 72,
   "metadata": {},
   "outputs": [
    {
     "data": {
      "image/png": "[encoded data removed]",
      "text/plain": [
       "<Figure size 432x288 with 1 Axes>"
      ]
     },
     "metadata": {},
     "output_type": "display_data"
    }
   ],
   "source": [
    "n = nx.Graph()\n",
    "n.add_edges_from([(4,4),(3,3),(2,2)])\n",
    "#(1,2),(2,3),(4,5),\n",
    "nx.draw(n,with_labels = True, pos = pos)"
   ]
  },
  {
   "cell_type": "code",
   "execution_count": 70,
   "metadata": {},
   "outputs": [
    {
     "data": {
      "image/png": "[encoded data removed]",
      "text/plain": [
       "<Figure size 432x288 with 1 Axes>"
      ]
     },
     "metadata": {},
     "output_type": "display_data"
    }
   ],
   "source": [
    "nx.draw_circular(n)"
   ]
  },
  {
   "cell_type": "code",
   "execution_count": null,
   "metadata": {},
   "outputs": [],
   "source": []
  }
 ],
 "metadata": {
  "kernelspec": {
   "display_name": "Python 3",
   "language": "python",
   "name": "python3"
  },
  "language_info": {
   "codemirror_mode": {
    "name": "ipython",
    "version": 3
   },
   "file_extension": ".py",
   "mimetype": "text/x-python",
   "name": "python",
   "nbconvert_exporter": "python",
   "pygments_lexer": "ipython3",
   "version": "3.7.4"
  }
 },
 "nbformat": 4,
 "nbformat_minor": 2
}
