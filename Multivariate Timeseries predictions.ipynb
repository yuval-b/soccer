{
 "cells": [
  {
   "cell_type": "markdown",
   "metadata": {},
   "source": [
    "# ML for Match Prediction\n",
    "\n",
    "Comparing different algorithms for match prediction based on network metric timeseries results.\n",
    "\n",
    "Yuval Berman."
   ]
  },
  {
   "cell_type": "code",
   "execution_count": 1,
   "metadata": {},
   "outputs": [],
   "source": [
    "# Import necessary libraries\n",
    "import numpy as np\n",
    "from keras.models import Sequential\n",
    "from keras.layers import LSTM\n",
    "from keras.layers import Dense\n",
    "import os\n",
    "import pandas as pd\n",
    "from collections import Counter\n",
    "import matplotlib.pyplot as plt\n",
    "import pyts\n",
    "import matplotlib.pyplot as plt"
   ]
  },
  {
   "cell_type": "code",
   "execution_count": 2,
   "metadata": {},
   "outputs": [],
   "source": [
    "# to make this notebook's output stable across runs\n",
    "np.random.seed(42)"
   ]
  },
  {
   "cell_type": "code",
   "execution_count": 3,
   "metadata": {},
   "outputs": [],
   "source": [
    "os.chdir('/Users/Yuval/Desktop/Pawsey/data/')"
   ]
  },
  {
   "cell_type": "code",
   "execution_count": 4,
   "metadata": {},
   "outputs": [],
   "source": [
    "\n",
    "## Import up sound alert dependencies\n",
    "from IPython.display import Audio, display\n",
    "\n",
    "def allDone():\n",
    "    display(Audio(url='https://sound.peal.io/ps/audios/000/000/537/original/woo_vu_luvub_dub_dub.wav', autoplay=True))\n",
    "## Insert whatever audio file you want above\n",
    "\n",
    "# allDone()"
   ]
  },
  {
   "cell_type": "markdown",
   "metadata": {},
   "source": [
    "### Data Cleaning"
   ]
  },
  {
   "cell_type": "code",
   "execution_count": 5,
   "metadata": {},
   "outputs": [],
   "source": [
    "def append_dfs(directory):\n",
    "    df = pd.DataFrame()\n",
    "    files = os.listdir(directory)\n",
    "\n",
    "    for file in files:\n",
    "        if '.json' in file:\n",
    "            df2 = pd.read_json(directory+file)\n",
    "            df = df.append(df2,ignore_index=True,sort = False)\n",
    "    \n",
    "    return df"
   ]
  },
  {
   "cell_type": "code",
   "execution_count": 6,
   "metadata": {},
   "outputs": [],
   "source": [
    "Matches_df = append_dfs('matches/')\n",
    "ent_df = append_dfs('revised_entropy_df/')\n",
    "bet_df = append_dfs('betweenness_df/')\n",
    "clo_df = append_dfs('closeness_df/')\n",
    "outdeg_df = append_dfs('outdegree_df/')\n",
    "clu_df = append_dfs('clustering_df/')\n",
    "eve_df = append_dfs('eigenvector_std_df/')"
   ]
  },
  {
   "cell_type": "code",
   "execution_count": 7,
   "metadata": {},
   "outputs": [
    {
     "data": {
      "text/html": [
       "<div>\n",
       "<style scoped>\n",
       "    .dataframe tbody tr th:only-of-type {\n",
       "        vertical-align: middle;\n",
       "    }\n",
       "\n",
       "    .dataframe tbody tr th {\n",
       "        vertical-align: top;\n",
       "    }\n",
       "\n",
       "    .dataframe thead th {\n",
       "        text-align: right;\n",
       "    }\n",
       "</style>\n",
       "<table border=\"1\" class=\"dataframe\">\n",
       "  <thead>\n",
       "    <tr style=\"text-align: right;\">\n",
       "      <th></th>\n",
       "      <th>teamId</th>\n",
       "      <th>Opponent</th>\n",
       "      <th>matchId</th>\n",
       "      <th>5.0</th>\n",
       "      <th>5.5</th>\n",
       "      <th>6.0</th>\n",
       "      <th>6.5</th>\n",
       "      <th>7.0</th>\n",
       "      <th>7.5</th>\n",
       "      <th>8.0</th>\n",
       "      <th>...</th>\n",
       "      <th>80.0</th>\n",
       "      <th>80.5</th>\n",
       "      <th>81.0</th>\n",
       "      <th>81.5</th>\n",
       "      <th>82.0</th>\n",
       "      <th>82.5</th>\n",
       "      <th>83.0</th>\n",
       "      <th>83.5</th>\n",
       "      <th>84.0</th>\n",
       "      <th>84.5</th>\n",
       "    </tr>\n",
       "  </thead>\n",
       "  <tbody>\n",
       "    <tr>\n",
       "      <th>0</th>\n",
       "      <td>2446</td>\n",
       "      <td>2975</td>\n",
       "      <td>2516992</td>\n",
       "      <td>0.317546</td>\n",
       "      <td>0.316996</td>\n",
       "      <td>0.336427</td>\n",
       "      <td>0.357042</td>\n",
       "      <td>0.361491</td>\n",
       "      <td>0.357391</td>\n",
       "      <td>0.366039</td>\n",
       "      <td>...</td>\n",
       "      <td>0.400317</td>\n",
       "      <td>0.371050</td>\n",
       "      <td>0.339643</td>\n",
       "      <td>0.364728</td>\n",
       "      <td>0.389646</td>\n",
       "      <td>0.395021</td>\n",
       "      <td>0.395021</td>\n",
       "      <td>0.393800</td>\n",
       "      <td>0.393800</td>\n",
       "      <td>0.394883</td>\n",
       "    </tr>\n",
       "    <tr>\n",
       "      <th>1</th>\n",
       "      <td>2975</td>\n",
       "      <td>2446</td>\n",
       "      <td>2516992</td>\n",
       "      <td>0.490199</td>\n",
       "      <td>0.461628</td>\n",
       "      <td>0.477921</td>\n",
       "      <td>0.385478</td>\n",
       "      <td>0.360352</td>\n",
       "      <td>0.385438</td>\n",
       "      <td>0.385438</td>\n",
       "      <td>...</td>\n",
       "      <td>0.328196</td>\n",
       "      <td>0.301193</td>\n",
       "      <td>0.355941</td>\n",
       "      <td>0.371949</td>\n",
       "      <td>0.371949</td>\n",
       "      <td>0.371949</td>\n",
       "      <td>0.418589</td>\n",
       "      <td>0.350184</td>\n",
       "      <td>0.420143</td>\n",
       "      <td>0.351905</td>\n",
       "    </tr>\n",
       "    <tr>\n",
       "      <th>2</th>\n",
       "      <td>2460</td>\n",
       "      <td>2463</td>\n",
       "      <td>2516993</td>\n",
       "      <td>0.308547</td>\n",
       "      <td>0.308547</td>\n",
       "      <td>0.268868</td>\n",
       "      <td>0.332014</td>\n",
       "      <td>0.334145</td>\n",
       "      <td>0.373582</td>\n",
       "      <td>0.316275</td>\n",
       "      <td>...</td>\n",
       "      <td>0.069468</td>\n",
       "      <td>0.185249</td>\n",
       "      <td>0.220059</td>\n",
       "      <td>0.256761</td>\n",
       "      <td>0.256761</td>\n",
       "      <td>0.233604</td>\n",
       "      <td>0.253071</td>\n",
       "      <td>0.248712</td>\n",
       "      <td>0.205337</td>\n",
       "      <td>0.205337</td>\n",
       "    </tr>\n",
       "    <tr>\n",
       "      <th>3</th>\n",
       "      <td>2463</td>\n",
       "      <td>2460</td>\n",
       "      <td>2516993</td>\n",
       "      <td>0.249063</td>\n",
       "      <td>0.223977</td>\n",
       "      <td>0.249063</td>\n",
       "      <td>0.249063</td>\n",
       "      <td>0.249063</td>\n",
       "      <td>0.249063</td>\n",
       "      <td>0.280461</td>\n",
       "      <td>...</td>\n",
       "      <td>0.064163</td>\n",
       "      <td>0.082495</td>\n",
       "      <td>0.082495</td>\n",
       "      <td>0.082495</td>\n",
       "      <td>0.111791</td>\n",
       "      <td>0.203111</td>\n",
       "      <td>0.203111</td>\n",
       "      <td>0.196770</td>\n",
       "      <td>0.249073</td>\n",
       "      <td>0.249073</td>\n",
       "    </tr>\n",
       "    <tr>\n",
       "      <th>4</th>\n",
       "      <td>2451</td>\n",
       "      <td>2453</td>\n",
       "      <td>2516994</td>\n",
       "      <td>0.298427</td>\n",
       "      <td>0.313101</td>\n",
       "      <td>0.234298</td>\n",
       "      <td>0.194538</td>\n",
       "      <td>0.244240</td>\n",
       "      <td>0.262395</td>\n",
       "      <td>0.230888</td>\n",
       "      <td>...</td>\n",
       "      <td>0.086009</td>\n",
       "      <td>0.086461</td>\n",
       "      <td>0.086461</td>\n",
       "      <td>0.086461</td>\n",
       "      <td>0.097269</td>\n",
       "      <td>0.097269</td>\n",
       "      <td>0.097269</td>\n",
       "      <td>0.053013</td>\n",
       "      <td>0.053013</td>\n",
       "      <td>0.077815</td>\n",
       "    </tr>\n",
       "    <tr>\n",
       "      <th>...</th>\n",
       "      <td>...</td>\n",
       "      <td>...</td>\n",
       "      <td>...</td>\n",
       "      <td>...</td>\n",
       "      <td>...</td>\n",
       "      <td>...</td>\n",
       "      <td>...</td>\n",
       "      <td>...</td>\n",
       "      <td>...</td>\n",
       "      <td>...</td>\n",
       "      <td>...</td>\n",
       "      <td>...</td>\n",
       "      <td>...</td>\n",
       "      <td>...</td>\n",
       "      <td>...</td>\n",
       "      <td>...</td>\n",
       "      <td>...</td>\n",
       "      <td>...</td>\n",
       "      <td>...</td>\n",
       "      <td>...</td>\n",
       "      <td>...</td>\n",
       "    </tr>\n",
       "    <tr>\n",
       "      <th>3877</th>\n",
       "      <td>3158</td>\n",
       "      <td>3315</td>\n",
       "      <td>2576336</td>\n",
       "      <td>0.422499</td>\n",
       "      <td>0.395401</td>\n",
       "      <td>0.389270</td>\n",
       "      <td>0.408700</td>\n",
       "      <td>0.404211</td>\n",
       "      <td>0.415933</td>\n",
       "      <td>0.415933</td>\n",
       "      <td>...</td>\n",
       "      <td>0.461202</td>\n",
       "      <td>0.467575</td>\n",
       "      <td>0.467575</td>\n",
       "      <td>0.440314</td>\n",
       "      <td>0.447321</td>\n",
       "      <td>0.447321</td>\n",
       "      <td>0.439627</td>\n",
       "      <td>0.423764</td>\n",
       "      <td>0.417113</td>\n",
       "      <td>0.417113</td>\n",
       "    </tr>\n",
       "    <tr>\n",
       "      <th>3878</th>\n",
       "      <td>3204</td>\n",
       "      <td>3164</td>\n",
       "      <td>2576337</td>\n",
       "      <td>0.280207</td>\n",
       "      <td>0.207081</td>\n",
       "      <td>0.150655</td>\n",
       "      <td>0.164473</td>\n",
       "      <td>0.148856</td>\n",
       "      <td>0.148856</td>\n",
       "      <td>0.148856</td>\n",
       "      <td>...</td>\n",
       "      <td>0.242397</td>\n",
       "      <td>0.334456</td>\n",
       "      <td>0.323801</td>\n",
       "      <td>0.271205</td>\n",
       "      <td>0.238193</td>\n",
       "      <td>0.238193</td>\n",
       "      <td>0.238193</td>\n",
       "      <td>0.244791</td>\n",
       "      <td>0.255203</td>\n",
       "      <td>0.291745</td>\n",
       "    </tr>\n",
       "    <tr>\n",
       "      <th>3879</th>\n",
       "      <td>3164</td>\n",
       "      <td>3204</td>\n",
       "      <td>2576337</td>\n",
       "      <td>0.350385</td>\n",
       "      <td>0.339027</td>\n",
       "      <td>0.335646</td>\n",
       "      <td>0.344456</td>\n",
       "      <td>0.344456</td>\n",
       "      <td>0.345593</td>\n",
       "      <td>0.345593</td>\n",
       "      <td>...</td>\n",
       "      <td>0.230155</td>\n",
       "      <td>0.221345</td>\n",
       "      <td>0.219209</td>\n",
       "      <td>0.267270</td>\n",
       "      <td>0.359736</td>\n",
       "      <td>0.314963</td>\n",
       "      <td>0.339691</td>\n",
       "      <td>0.339691</td>\n",
       "      <td>0.347767</td>\n",
       "      <td>0.358342</td>\n",
       "    </tr>\n",
       "    <tr>\n",
       "      <th>3880</th>\n",
       "      <td>3193</td>\n",
       "      <td>3185</td>\n",
       "      <td>2576338</td>\n",
       "      <td>0.452872</td>\n",
       "      <td>0.430230</td>\n",
       "      <td>0.430230</td>\n",
       "      <td>0.453801</td>\n",
       "      <td>0.453801</td>\n",
       "      <td>0.478009</td>\n",
       "      <td>0.475754</td>\n",
       "      <td>...</td>\n",
       "      <td>0.404759</td>\n",
       "      <td>0.434387</td>\n",
       "      <td>0.410969</td>\n",
       "      <td>0.412583</td>\n",
       "      <td>0.412583</td>\n",
       "      <td>0.392965</td>\n",
       "      <td>0.341150</td>\n",
       "      <td>0.357759</td>\n",
       "      <td>0.373767</td>\n",
       "      <td>0.373767</td>\n",
       "    </tr>\n",
       "    <tr>\n",
       "      <th>3881</th>\n",
       "      <td>3185</td>\n",
       "      <td>3193</td>\n",
       "      <td>2576338</td>\n",
       "      <td>0.328006</td>\n",
       "      <td>0.328006</td>\n",
       "      <td>0.331340</td>\n",
       "      <td>0.339041</td>\n",
       "      <td>0.311485</td>\n",
       "      <td>0.308288</td>\n",
       "      <td>0.308288</td>\n",
       "      <td>...</td>\n",
       "      <td>0.216784</td>\n",
       "      <td>0.216784</td>\n",
       "      <td>0.139246</td>\n",
       "      <td>0.139246</td>\n",
       "      <td>0.059640</td>\n",
       "      <td>0.068160</td>\n",
       "      <td>0.068160</td>\n",
       "      <td>0.095424</td>\n",
       "      <td>0.079520</td>\n",
       "      <td>0.079520</td>\n",
       "    </tr>\n",
       "  </tbody>\n",
       "</table>\n",
       "<p>3882 rows × 163 columns</p>\n",
       "</div>"
      ],
      "text/plain": [
       "      teamId  Opponent  matchId       5.0       5.5       6.0       6.5  \\\n",
       "0       2446      2975  2516992  0.317546  0.316996  0.336427  0.357042   \n",
       "1       2975      2446  2516992  0.490199  0.461628  0.477921  0.385478   \n",
       "2       2460      2463  2516993  0.308547  0.308547  0.268868  0.332014   \n",
       "3       2463      2460  2516993  0.249063  0.223977  0.249063  0.249063   \n",
       "4       2451      2453  2516994  0.298427  0.313101  0.234298  0.194538   \n",
       "...      ...       ...      ...       ...       ...       ...       ...   \n",
       "3877    3158      3315  2576336  0.422499  0.395401  0.389270  0.408700   \n",
       "3878    3204      3164  2576337  0.280207  0.207081  0.150655  0.164473   \n",
       "3879    3164      3204  2576337  0.350385  0.339027  0.335646  0.344456   \n",
       "3880    3193      3185  2576338  0.452872  0.430230  0.430230  0.453801   \n",
       "3881    3185      3193  2576338  0.328006  0.328006  0.331340  0.339041   \n",
       "\n",
       "           7.0       7.5       8.0  ...      80.0      80.5      81.0  \\\n",
       "0     0.361491  0.357391  0.366039  ...  0.400317  0.371050  0.339643   \n",
       "1     0.360352  0.385438  0.385438  ...  0.328196  0.301193  0.355941   \n",
       "2     0.334145  0.373582  0.316275  ...  0.069468  0.185249  0.220059   \n",
       "3     0.249063  0.249063  0.280461  ...  0.064163  0.082495  0.082495   \n",
       "4     0.244240  0.262395  0.230888  ...  0.086009  0.086461  0.086461   \n",
       "...        ...       ...       ...  ...       ...       ...       ...   \n",
       "3877  0.404211  0.415933  0.415933  ...  0.461202  0.467575  0.467575   \n",
       "3878  0.148856  0.148856  0.148856  ...  0.242397  0.334456  0.323801   \n",
       "3879  0.344456  0.345593  0.345593  ...  0.230155  0.221345  0.219209   \n",
       "3880  0.453801  0.478009  0.475754  ...  0.404759  0.434387  0.410969   \n",
       "3881  0.311485  0.308288  0.308288  ...  0.216784  0.216784  0.139246   \n",
       "\n",
       "          81.5      82.0      82.5      83.0      83.5      84.0      84.5  \n",
       "0     0.364728  0.389646  0.395021  0.395021  0.393800  0.393800  0.394883  \n",
       "1     0.371949  0.371949  0.371949  0.418589  0.350184  0.420143  0.351905  \n",
       "2     0.256761  0.256761  0.233604  0.253071  0.248712  0.205337  0.205337  \n",
       "3     0.082495  0.111791  0.203111  0.203111  0.196770  0.249073  0.249073  \n",
       "4     0.086461  0.097269  0.097269  0.097269  0.053013  0.053013  0.077815  \n",
       "...        ...       ...       ...       ...       ...       ...       ...  \n",
       "3877  0.440314  0.447321  0.447321  0.439627  0.423764  0.417113  0.417113  \n",
       "3878  0.271205  0.238193  0.238193  0.238193  0.244791  0.255203  0.291745  \n",
       "3879  0.267270  0.359736  0.314963  0.339691  0.339691  0.347767  0.358342  \n",
       "3880  0.412583  0.412583  0.392965  0.341150  0.357759  0.373767  0.373767  \n",
       "3881  0.139246  0.059640  0.068160  0.068160  0.095424  0.079520  0.079520  \n",
       "\n",
       "[3882 rows x 163 columns]"
      ]
     },
     "execution_count": 7,
     "metadata": {},
     "output_type": "execute_result"
    }
   ],
   "source": [
    "# Remove nan rows\n",
    "ent_df = ent_df.loc[np.isnan(ent_df['5.0'])==False]\n",
    "ent_df\n",
    "# Great! It has no nans"
   ]
  },
  {
   "cell_type": "code",
   "execution_count": 8,
   "metadata": {},
   "outputs": [],
   "source": [
    "matches = list(Matches_df['wyId'])"
   ]
  },
  {
   "cell_type": "code",
   "execution_count": 9,
   "metadata": {},
   "outputs": [],
   "source": [
    "def score_getter(Matches,match,team):\n",
    "    \n",
    "    Matches = Matches.loc[Matches['wyId'] == match]\n",
    "    label = list(Matches['teamsData'])[0]\n",
    "    \n",
    "    if len(list(Matches['teamsData']))>1:\n",
    "        print('Error!')\n",
    "        \n",
    "    teams = list(label.keys())\n",
    "    \n",
    "    if str(team) == teams[0]:\n",
    "        sco1 = label[teams[0]]['score']\n",
    "        sco2 = label[teams[1]]['score']\n",
    "        return [match, int(teams[0]), int(teams[1]), sco1, sco2]\n",
    "    elif str(team) == teams[1]:\n",
    "        sco1 = label[teams[1]]['score']\n",
    "        sco2 = label[teams[0]]['score']\n",
    "        return [match, int(teams[1]), int(teams[0]), sco1, sco2]\n",
    "    else:\n",
    "        print('Problem!')"
   ]
  },
  {
   "cell_type": "code",
   "execution_count": 10,
   "metadata": {},
   "outputs": [],
   "source": [
    "df_list = [ent_df, bet_df,clo_df, outdeg_df, clu_df, eve_df]"
   ]
  },
  {
   "cell_type": "code",
   "execution_count": 11,
   "metadata": {},
   "outputs": [],
   "source": [
    "all_diffs = []\n",
    "for match in matches:\n",
    "    diff = []\n",
    "    for df in df_list:\n",
    "        df = df.loc[df['matchId'] == match]\n",
    "        #indexes = list(df.index)\n",
    "        diff.append(list(df.iloc[0][3:]-df.iloc[1][3:]))\n",
    "    score = score_getter(Matches_df,match,int(df.iloc[0][0]))\n",
    "    diff.append(score)\n",
    "    all_diffs.append(diff)"
   ]
  },
  {
   "cell_type": "code",
   "execution_count": 12,
   "metadata": {},
   "outputs": [],
   "source": [
    "# Make dataframe\n",
    "df = pd.DataFrame()\n",
    "names = ['entropy','betweenness','closeness','outdegree','clustering','evector_std','identifier']\n",
    "df = pd.DataFrame(all_diffs)\n",
    "df.columns = names"
   ]
  },
  {
   "cell_type": "code",
   "execution_count": 13,
   "metadata": {},
   "outputs": [],
   "source": [
    "outlabel =[]\n",
    "for item in list(df['identifier']):\n",
    "    out = np.sign(item[3]-item[4])\n",
    "    outlabel.append(out)\n",
    "    \n",
    "df['outcome_label'] = outlabel"
   ]
  },
  {
   "cell_type": "code",
   "execution_count": 14,
   "metadata": {},
   "outputs": [
    {
     "data": {
      "text/plain": [
       "{465, 520, 622}"
      ]
     },
     "execution_count": 14,
     "metadata": {},
     "output_type": "execute_result"
    }
   ],
   "source": [
    "nanlist = []\n",
    "l = np.isnan(list(df['entropy']))\n",
    "for i in range(len(l)):\n",
    "    for j in range(len(l[i])):\n",
    "        if l[i][j] == True:\n",
    "            #print(i,j)\n",
    "            nanlist.append(i)\n",
    "set(nanlist)"
   ]
  },
  {
   "cell_type": "code",
   "execution_count": 15,
   "metadata": {},
   "outputs": [],
   "source": [
    "df = df.drop(list(set(nanlist)))"
   ]
  },
  {
   "cell_type": "code",
   "execution_count": 16,
   "metadata": {},
   "outputs": [],
   "source": [
    "#df = df.drop([465,520,622])"
   ]
  },
  {
   "cell_type": "markdown",
   "metadata": {},
   "source": [
    "### Setting aside a test set"
   ]
  },
  {
   "cell_type": "code",
   "execution_count": 17,
   "metadata": {},
   "outputs": [],
   "source": [
    "def split_train_test(data, test_ratio):\n",
    "    shuffled_indices = np.random.permutation(len(data))\n",
    "    test_set_size = int(len(data) * test_ratio)\n",
    "    test_indices = shuffled_indices[:test_set_size]\n",
    "    train_indices = shuffled_indices[test_set_size:]\n",
    "    return data.iloc[train_indices], data.iloc[test_indices]"
   ]
  },
  {
   "cell_type": "code",
   "execution_count": 18,
   "metadata": {},
   "outputs": [
    {
     "name": "stdout",
     "output_type": "stream",
     "text": [
      "1551 387\n"
     ]
    }
   ],
   "source": [
    "train_set, test_set = split_train_test(df, 0.2)\n",
    "\n",
    "print(len(train_set),len(test_set))"
   ]
  },
  {
   "cell_type": "code",
   "execution_count": 32,
   "metadata": {},
   "outputs": [
    {
     "data": {
      "text/plain": [
       "(1551, 6, 160)"
      ]
     },
     "execution_count": 32,
     "metadata": {},
     "output_type": "execute_result"
    }
   ],
   "source": [
    "X_train.shape"
   ]
  },
  {
   "cell_type": "markdown",
   "metadata": {},
   "source": [
    "### Creating X_train, X_test, y_train, y_test"
   ]
  },
  {
   "cell_type": "code",
   "execution_count": 19,
   "metadata": {},
   "outputs": [
    {
     "name": "stderr",
     "output_type": "stream",
     "text": [
      "OMP: Info #271: omp_set_nested routine deprecated, please use omp_set_max_active_levels instead.\n"
     ]
    }
   ],
   "source": [
    "from pyts.multivariate.classification import MultivariateClassifier\n",
    "from pyts.classification import TimeSeriesForest\n",
    "from sklearn.pipeline import Pipeline\n",
    "from sktime.classification.compose import ColumnEnsembleClassifier\n",
    "from sktime.classification.dictionary_based import BOSSEnsemble\n",
    "from sktime.classification.interval_based import TimeSeriesForestClassifier\n",
    "from sktime.datasets import load_basic_motions\n",
    "from sktime.transformations.panel.compose import ColumnConcatenator\n",
    "import numpy as np\n",
    "from sklearn.linear_model import RidgeClassifierCV\n",
    "from sklearn.pipeline import make_pipeline\n",
    "from sktime.transformations.panel.rocket import Rocket"
   ]
  },
  {
   "cell_type": "code",
   "execution_count": 20,
   "metadata": {},
   "outputs": [],
   "source": [
    "y_train = np.array(list(train_set['outcome_label']))\n",
    "y_test = np.array(list(test_set['outcome_label']))"
   ]
  },
  {
   "cell_type": "code",
   "execution_count": 23,
   "metadata": {},
   "outputs": [],
   "source": [
    "X_train = []\n",
    "t = 160\n",
    "for index, row in train_set.iterrows():\n",
    "    X_train.append([row['entropy'][:t], row['betweenness'][:t], row['closeness'][:t], row['outdegree'][:t],row['clustering'][:t], row['evector_std'][:t]])\n",
    "\n",
    "X_train = np.array(X_train)"
   ]
  },
  {
   "cell_type": "code",
   "execution_count": 24,
   "metadata": {},
   "outputs": [],
   "source": [
    "X_test = []\n",
    "for index, row in test_set.iterrows():\n",
    "    X_test.append([row['entropy'][:t], row['betweenness'][:t], row['closeness'][:t], row['outdegree'][:t],row['clustering'][:t], row['evector_std'][:t]])\n",
    "\n",
    "X_test = np.array(X_test)"
   ]
  },
  {
   "cell_type": "markdown",
   "metadata": {},
   "source": [
    "## Time Series Forest"
   ]
  },
  {
   "cell_type": "code",
   "execution_count": 75,
   "metadata": {},
   "outputs": [],
   "source": [
    "model = MultivariateClassifier(TimeSeriesForest(n_estimators = 5000, n_windows = 100))"
   ]
  },
  {
   "cell_type": "code",
   "execution_count": 76,
   "metadata": {},
   "outputs": [
    {
     "data": {
      "text/plain": [
       "MultivariateClassifier(estimator=TimeSeriesForest(n_estimators=5000,\n",
       "                                                  n_windows=100))"
      ]
     },
     "execution_count": 76,
     "metadata": {},
     "output_type": "execute_result"
    }
   ],
   "source": [
    "model.fit(X_train,y_train)"
   ]
  },
  {
   "cell_type": "code",
   "execution_count": 77,
   "metadata": {},
   "outputs": [
    {
     "data": {
      "text/plain": [
       "0.5529715762273901"
      ]
     },
     "execution_count": 77,
     "metadata": {},
     "output_type": "execute_result"
    }
   ],
   "source": [
    "model.score(X_test, y_test)"
   ]
  },
  {
   "cell_type": "markdown",
   "metadata": {},
   "source": [
    "# SKtime\n",
    "Multivariate time series classification with sktime"
   ]
  },
  {
   "cell_type": "code",
   "execution_count": 31,
   "metadata": {},
   "outputs": [
    {
     "data": {
      "text/plain": [
       "0.5503875968992248"
      ]
     },
     "execution_count": 31,
     "metadata": {},
     "output_type": "execute_result"
    }
   ],
   "source": [
    "steps = [\n",
    "    (\"concatenate\", ColumnConcatenator()),\n",
    "    (\"classify\", TimeSeriesForestClassifier(n_estimators=100)),\n",
    "]\n",
    "clf = Pipeline(steps)\n",
    "clf.fit(X_train, y_train)\n",
    "clf.score(X_test, y_test)"
   ]
  },
  {
   "cell_type": "code",
   "execution_count": 79,
   "metadata": {},
   "outputs": [],
   "source": [
    "import time"
   ]
  },
  {
   "cell_type": "code",
   "execution_count": 80,
   "metadata": {},
   "outputs": [
    {
     "ename": "KeyboardInterrupt",
     "evalue": "",
     "output_type": "error",
     "traceback": [
      "\u001b[0;31m---------------------------------------------------------------------------\u001b[0m",
      "\u001b[0;31mKeyboardInterrupt\u001b[0m                         Traceback (most recent call last)",
      "\u001b[0;32m/var/folders/ys/xd1k0y7j01xghctdv8ktdd900000gn/T/ipykernel_22481/3014194788.py\u001b[0m in \u001b[0;36m<module>\u001b[0;34m\u001b[0m\n\u001b[1;32m      6\u001b[0m     ]\n\u001b[1;32m      7\u001b[0m )\n\u001b[0;32m----> 8\u001b[0;31m \u001b[0mclf\u001b[0m\u001b[0;34m.\u001b[0m\u001b[0mfit\u001b[0m\u001b[0;34m(\u001b[0m\u001b[0mX_train\u001b[0m\u001b[0;34m,\u001b[0m \u001b[0my_train\u001b[0m\u001b[0;34m)\u001b[0m\u001b[0;34m\u001b[0m\u001b[0;34m\u001b[0m\u001b[0m\n\u001b[0m\u001b[1;32m      9\u001b[0m \u001b[0mprint\u001b[0m\u001b[0;34m(\u001b[0m\u001b[0mclf\u001b[0m\u001b[0;34m.\u001b[0m\u001b[0mscore\u001b[0m\u001b[0;34m(\u001b[0m\u001b[0mX_test\u001b[0m\u001b[0;34m,\u001b[0m \u001b[0my_test\u001b[0m\u001b[0;34m)\u001b[0m\u001b[0;34m)\u001b[0m\u001b[0;34m\u001b[0m\u001b[0;34m\u001b[0m\u001b[0m\n\u001b[1;32m     10\u001b[0m \u001b[0me\u001b[0m \u001b[0;34m=\u001b[0m \u001b[0mtime\u001b[0m\u001b[0;34m.\u001b[0m\u001b[0mtime\u001b[0m\u001b[0;34m(\u001b[0m\u001b[0;34m)\u001b[0m\u001b[0;34m\u001b[0m\u001b[0;34m\u001b[0m\u001b[0m\n",
      "\u001b[0;32m/opt/anaconda3/lib/python3.7/site-packages/sktime/classification/compose/_column_ensemble.py\u001b[0m in \u001b[0;36mfit\u001b[0;34m(self, X, y)\u001b[0m\n\u001b[1;32m    149\u001b[0m         \u001b[0;32mfor\u001b[0m \u001b[0mname\u001b[0m\u001b[0;34m,\u001b[0m \u001b[0mestimator\u001b[0m\u001b[0;34m,\u001b[0m \u001b[0mcolumn\u001b[0m \u001b[0;32min\u001b[0m \u001b[0mself\u001b[0m\u001b[0;34m.\u001b[0m\u001b[0m_iter\u001b[0m\u001b[0;34m(\u001b[0m\u001b[0mreplace_strings\u001b[0m\u001b[0;34m=\u001b[0m\u001b[0;32mTrue\u001b[0m\u001b[0;34m)\u001b[0m\u001b[0;34m:\u001b[0m\u001b[0;34m\u001b[0m\u001b[0;34m\u001b[0m\u001b[0m\n\u001b[1;32m    150\u001b[0m             \u001b[0mestimator\u001b[0m \u001b[0;34m=\u001b[0m \u001b[0mclone\u001b[0m\u001b[0;34m(\u001b[0m\u001b[0mestimator\u001b[0m\u001b[0;34m)\u001b[0m\u001b[0;34m\u001b[0m\u001b[0;34m\u001b[0m\u001b[0m\n\u001b[0;32m--> 151\u001b[0;31m             \u001b[0mestimator\u001b[0m\u001b[0;34m.\u001b[0m\u001b[0mfit\u001b[0m\u001b[0;34m(\u001b[0m\u001b[0m_get_column\u001b[0m\u001b[0;34m(\u001b[0m\u001b[0mX\u001b[0m\u001b[0;34m,\u001b[0m \u001b[0mcolumn\u001b[0m\u001b[0;34m)\u001b[0m\u001b[0;34m,\u001b[0m \u001b[0mtransformed_y\u001b[0m\u001b[0;34m)\u001b[0m\u001b[0;34m\u001b[0m\u001b[0;34m\u001b[0m\u001b[0m\n\u001b[0m\u001b[1;32m    152\u001b[0m             \u001b[0mestimators_\u001b[0m\u001b[0;34m.\u001b[0m\u001b[0mappend\u001b[0m\u001b[0;34m(\u001b[0m\u001b[0;34m(\u001b[0m\u001b[0mname\u001b[0m\u001b[0;34m,\u001b[0m \u001b[0mestimator\u001b[0m\u001b[0;34m,\u001b[0m \u001b[0mcolumn\u001b[0m\u001b[0;34m)\u001b[0m\u001b[0;34m)\u001b[0m\u001b[0;34m\u001b[0m\u001b[0;34m\u001b[0m\u001b[0m\n\u001b[1;32m    153\u001b[0m \u001b[0;34m\u001b[0m\u001b[0m\n",
      "\u001b[0;32m/opt/anaconda3/lib/python3.7/site-packages/sktime/classification/base.py\u001b[0m in \u001b[0;36mfit\u001b[0;34m(self, X, y)\u001b[0m\n\u001b[1;32m    106\u001b[0m             \u001b[0mself\u001b[0m\u001b[0;34m.\u001b[0m\u001b[0m_class_dictionary\u001b[0m\u001b[0;34m[\u001b[0m\u001b[0mclassVal\u001b[0m\u001b[0;34m]\u001b[0m \u001b[0;34m=\u001b[0m \u001b[0mindex\u001b[0m\u001b[0;34m\u001b[0m\u001b[0;34m\u001b[0m\u001b[0m\n\u001b[1;32m    107\u001b[0m \u001b[0;34m\u001b[0m\u001b[0m\n\u001b[0;32m--> 108\u001b[0;31m         \u001b[0mself\u001b[0m\u001b[0;34m.\u001b[0m\u001b[0m_fit\u001b[0m\u001b[0;34m(\u001b[0m\u001b[0mX\u001b[0m\u001b[0;34m,\u001b[0m \u001b[0my\u001b[0m\u001b[0;34m)\u001b[0m\u001b[0;34m\u001b[0m\u001b[0;34m\u001b[0m\u001b[0m\n\u001b[0m\u001b[1;32m    109\u001b[0m \u001b[0;34m\u001b[0m\u001b[0m\n\u001b[1;32m    110\u001b[0m         \u001b[0;31m# this should happen last\u001b[0m\u001b[0;34m\u001b[0m\u001b[0;34m\u001b[0m\u001b[0;34m\u001b[0m\u001b[0m\n",
      "\u001b[0;32m/opt/anaconda3/lib/python3.7/site-packages/sktime/classification/dictionary_based/_boss.py\u001b[0m in \u001b[0;36m_fit\u001b[0;34m(self, X, y)\u001b[0m\n\u001b[1;32m    215\u001b[0m \u001b[0;34m\u001b[0m\u001b[0m\n\u001b[1;32m    216\u001b[0m                     boss._accuracy = self._individual_train_acc(\n\u001b[0;32m--> 217\u001b[0;31m                         \u001b[0mboss\u001b[0m\u001b[0;34m,\u001b[0m \u001b[0my\u001b[0m\u001b[0;34m,\u001b[0m \u001b[0mself\u001b[0m\u001b[0;34m.\u001b[0m\u001b[0mn_instances_\u001b[0m\u001b[0;34m,\u001b[0m \u001b[0mbest_acc_for_win_size\u001b[0m\u001b[0;34m\u001b[0m\u001b[0;34m\u001b[0m\u001b[0m\n\u001b[0m\u001b[1;32m    218\u001b[0m                     )\n\u001b[1;32m    219\u001b[0m \u001b[0;34m\u001b[0m\u001b[0m\n",
      "\u001b[0;32m/opt/anaconda3/lib/python3.7/site-packages/sktime/classification/dictionary_based/_boss.py\u001b[0m in \u001b[0;36m_individual_train_acc\u001b[0;34m(self, boss, y, train_size, lowest_acc)\u001b[0m\n\u001b[1;32m    385\u001b[0m                     \u001b[0;32mreturn\u001b[0m \u001b[0;34m-\u001b[0m\u001b[0;36m1\u001b[0m\u001b[0;34m\u001b[0m\u001b[0;34m\u001b[0m\u001b[0m\n\u001b[1;32m    386\u001b[0m \u001b[0;34m\u001b[0m\u001b[0m\n\u001b[0;32m--> 387\u001b[0;31m                 \u001b[0mc\u001b[0m \u001b[0;34m=\u001b[0m \u001b[0mboss\u001b[0m\u001b[0;34m.\u001b[0m\u001b[0m_train_predict\u001b[0m\u001b[0;34m(\u001b[0m\u001b[0mi\u001b[0m\u001b[0;34m)\u001b[0m\u001b[0;34m\u001b[0m\u001b[0;34m\u001b[0m\u001b[0m\n\u001b[0m\u001b[1;32m    388\u001b[0m \u001b[0;34m\u001b[0m\u001b[0m\n\u001b[1;32m    389\u001b[0m                 \u001b[0;32mif\u001b[0m \u001b[0mc\u001b[0m \u001b[0;34m==\u001b[0m \u001b[0my\u001b[0m\u001b[0;34m[\u001b[0m\u001b[0mi\u001b[0m\u001b[0;34m]\u001b[0m\u001b[0;34m:\u001b[0m\u001b[0;34m\u001b[0m\u001b[0;34m\u001b[0m\u001b[0m\n",
      "\u001b[0;32m/opt/anaconda3/lib/python3.7/site-packages/sktime/classification/dictionary_based/_boss.py\u001b[0m in \u001b[0;36m_train_predict\u001b[0;34m(self, train_num)\u001b[0m\n\u001b[1;32m    588\u001b[0m                 \u001b[0;32mcontinue\u001b[0m\u001b[0;34m\u001b[0m\u001b[0;34m\u001b[0m\u001b[0m\n\u001b[1;32m    589\u001b[0m \u001b[0;34m\u001b[0m\u001b[0m\n\u001b[0;32m--> 590\u001b[0;31m             \u001b[0mdist\u001b[0m \u001b[0;34m=\u001b[0m \u001b[0mboss_distance\u001b[0m\u001b[0;34m(\u001b[0m\u001b[0mtest_bag\u001b[0m\u001b[0;34m,\u001b[0m \u001b[0mbag\u001b[0m\u001b[0;34m,\u001b[0m \u001b[0mbest_dist\u001b[0m\u001b[0;34m)\u001b[0m\u001b[0;34m\u001b[0m\u001b[0;34m\u001b[0m\u001b[0m\n\u001b[0m\u001b[1;32m    591\u001b[0m \u001b[0;34m\u001b[0m\u001b[0m\n\u001b[1;32m    592\u001b[0m             \u001b[0;32mif\u001b[0m \u001b[0mdist\u001b[0m \u001b[0;34m<\u001b[0m \u001b[0mbest_dist\u001b[0m\u001b[0;34m:\u001b[0m\u001b[0;34m\u001b[0m\u001b[0;34m\u001b[0m\u001b[0m\n",
      "\u001b[0;32m/opt/anaconda3/lib/python3.7/site-packages/sktime/classification/dictionary_based/_boss.py\u001b[0m in \u001b[0;36mboss_distance\u001b[0;34m(first, second, best_dist)\u001b[0m\n\u001b[1;32m    659\u001b[0m     \u001b[0;32mif\u001b[0m \u001b[0misinstance\u001b[0m\u001b[0;34m(\u001b[0m\u001b[0mfirst\u001b[0m\u001b[0;34m,\u001b[0m \u001b[0mdict\u001b[0m\u001b[0;34m)\u001b[0m\u001b[0;34m:\u001b[0m\u001b[0;34m\u001b[0m\u001b[0;34m\u001b[0m\u001b[0m\n\u001b[1;32m    660\u001b[0m         \u001b[0;32mfor\u001b[0m \u001b[0mword\u001b[0m\u001b[0;34m,\u001b[0m \u001b[0mval_a\u001b[0m \u001b[0;32min\u001b[0m \u001b[0mfirst\u001b[0m\u001b[0;34m.\u001b[0m\u001b[0mitems\u001b[0m\u001b[0;34m(\u001b[0m\u001b[0;34m)\u001b[0m\u001b[0;34m:\u001b[0m\u001b[0;34m\u001b[0m\u001b[0;34m\u001b[0m\u001b[0m\n\u001b[0;32m--> 661\u001b[0;31m             \u001b[0mval_b\u001b[0m \u001b[0;34m=\u001b[0m \u001b[0msecond\u001b[0m\u001b[0;34m.\u001b[0m\u001b[0mget\u001b[0m\u001b[0;34m(\u001b[0m\u001b[0mword\u001b[0m\u001b[0;34m,\u001b[0m \u001b[0;36m0\u001b[0m\u001b[0;34m)\u001b[0m\u001b[0;34m\u001b[0m\u001b[0;34m\u001b[0m\u001b[0m\n\u001b[0m\u001b[1;32m    662\u001b[0m             \u001b[0mbuf\u001b[0m \u001b[0;34m=\u001b[0m \u001b[0mval_a\u001b[0m \u001b[0;34m-\u001b[0m \u001b[0mval_b\u001b[0m\u001b[0;34m\u001b[0m\u001b[0;34m\u001b[0m\u001b[0m\n\u001b[1;32m    663\u001b[0m             \u001b[0mdist\u001b[0m \u001b[0;34m+=\u001b[0m \u001b[0mbuf\u001b[0m \u001b[0;34m*\u001b[0m \u001b[0mbuf\u001b[0m\u001b[0;34m\u001b[0m\u001b[0;34m\u001b[0m\u001b[0m\n",
      "\u001b[0;31mKeyboardInterrupt\u001b[0m: "
     ]
    }
   ],
   "source": [
    "# Column ensemble\n",
    "t = time.time()\n",
    "clf = ColumnEnsembleClassifier(\n",
    "    estimators=[\n",
    "        (\"TSF0\", TimeSeriesForestClassifier(n_estimators=100), [0]),\n",
    "        (\"BOSSEnsemble3\", BOSSEnsemble(max_ensemble_size=5), [3]),\n",
    "    ]\n",
    ")\n",
    "clf.fit(X_train, y_train)\n",
    "print(clf.score(X_test, y_test))\n",
    "e = time.time()\n",
    "print(e-t)"
   ]
  },
  {
   "cell_type": "code",
   "execution_count": 82,
   "metadata": {},
   "outputs": [],
   "source": [
    "from sktime.classification.shapelet_based import MrSEQLClassifier"
   ]
  },
  {
   "cell_type": "code",
   "execution_count": null,
   "metadata": {},
   "outputs": [
    {
     "name": "stderr",
     "output_type": "stream",
     "text": [
      "/opt/anaconda3/lib/python3.7/site-packages/ipykernel_launcher.py:3: FutureWarning: Call to deprecated class MrSEQLClassifier. (MrSEQLClassifier will be removed in v0.10.0. It will be replaced with an implementation based on Numba.) -- Deprecated since version 0.8.1.\n",
      "  This is separate from the ipykernel package so we can avoid doing imports until\n",
      "/opt/anaconda3/lib/python3.7/site-packages/ipykernel_launcher.py:3: FutureWarning: Call to deprecated class SEQLCLF. (SEQLCLF will be removed in v0.10.0) -- Deprecated since version 0.8.1.\n",
      "  This is separate from the ipykernel package so we can avoid doing imports until\n"
     ]
    }
   ],
   "source": [
    "# Bespoke\n",
    "ts = time.time()\n",
    "clf = MrSEQLClassifier()\n",
    "clf.fit(X_train, y_train)\n",
    "print(clf.score(X_test, y_test))\n",
    "es = time.time()\n",
    "print(es-ts)"
   ]
  },
  {
   "cell_type": "code",
   "execution_count": null,
   "metadata": {},
   "outputs": [],
   "source": [
    "allDone()"
   ]
  },
  {
   "cell_type": "markdown",
   "metadata": {},
   "source": [
    "## ROCKET"
   ]
  },
  {
   "cell_type": "code",
   "execution_count": 34,
   "metadata": {},
   "outputs": [],
   "source": [
    "rocket = Rocket()  # by default, ROCKET uses 10,000 kernels\n",
    "rocket.fit(X_train)\n",
    "X_train_transform = rocket.transform(X_train)"
   ]
  },
  {
   "cell_type": "code",
   "execution_count": 35,
   "metadata": {},
   "outputs": [
    {
     "name": "stderr",
     "output_type": "stream",
     "text": [
      "/opt/anaconda3/lib/python3.7/site-packages/sklearn/linear_model/_base.py:145: FutureWarning: 'normalize' was deprecated in version 1.0 and will be removed in 1.2.\n",
      "If you wish to scale the data, use Pipeline with a StandardScaler in a preprocessing stage. To reproduce the previous behavior:\n",
      "\n",
      "from sklearn.pipeline import make_pipeline\n",
      "\n",
      "model = make_pipeline(StandardScaler(with_mean=False), _RidgeGCV())\n",
      "\n",
      "If you wish to pass a sample_weight parameter, you need to pass it as a fit parameter to each step of the pipeline as follows:\n",
      "\n",
      "kwargs = {s[0] + '__sample_weight': sample_weight for s in model.steps}\n",
      "model.fit(X, y, **kwargs)\n",
      "\n",
      "\n",
      "  FutureWarning,\n"
     ]
    },
    {
     "data": {
      "text/plain": [
       "RidgeClassifierCV(alphas=array([1.00000000e-03, 4.64158883e-03, 2.15443469e-02, 1.00000000e-01,\n",
       "       4.64158883e-01, 2.15443469e+00, 1.00000000e+01, 4.64158883e+01,\n",
       "       2.15443469e+02, 1.00000000e+03]),\n",
       "                  normalize=True)"
      ]
     },
     "execution_count": 35,
     "metadata": {},
     "output_type": "execute_result"
    }
   ],
   "source": [
    "classifier = RidgeClassifierCV(alphas=np.logspace(-3, 3, 10), normalize=True)\n",
    "classifier.fit(X_train_transform, y_train)"
   ]
  },
  {
   "cell_type": "code",
   "execution_count": 36,
   "metadata": {},
   "outputs": [],
   "source": [
    "X_test_transform = rocket.transform(X_test)"
   ]
  },
  {
   "cell_type": "code",
   "execution_count": 37,
   "metadata": {},
   "outputs": [
    {
     "data": {
      "text/plain": [
       "0.5038759689922481"
      ]
     },
     "execution_count": 37,
     "metadata": {},
     "output_type": "execute_result"
    }
   ],
   "source": [
    "classifier.score(X_test_transform, y_test)"
   ]
  },
  {
   "cell_type": "code",
   "execution_count": 39,
   "metadata": {},
   "outputs": [
    {
     "data": {
      "text/html": [
       "\n",
       "                <audio  controls=\"controls\" autoplay=\"autoplay\">\n",
       "                    <source src=\"https://sound.peal.io/ps/audios/000/000/537/original/woo_vu_luvub_dub_dub.wav\" type=\"audio/x-wav\" />\n",
       "                    Your browser does not support the audio element.\n",
       "                </audio>\n",
       "              "
      ],
      "text/plain": [
       "<IPython.lib.display.Audio object>"
      ]
     },
     "metadata": {},
     "output_type": "display_data"
    }
   ],
   "source": [
    "allDone()"
   ]
  },
  {
   "cell_type": "markdown",
   "metadata": {},
   "source": [
    "## During Match Predictions"
   ]
  },
  {
   "cell_type": "code",
   "execution_count": 25,
   "metadata": {},
   "outputs": [],
   "source": [
    "matchtimes = [20,30,40,50,60,70,80,90]\n",
    "time = [(t-10)*2 for t in matchtimes]"
   ]
  },
  {
   "cell_type": "code",
   "execution_count": 26,
   "metadata": {},
   "outputs": [
    {
     "data": {
      "text/plain": [
       "[20, 40, 60, 80, 100, 120, 140, 160]"
      ]
     },
     "execution_count": 26,
     "metadata": {},
     "output_type": "execute_result"
    }
   ],
   "source": [
    "time"
   ]
  },
  {
   "cell_type": "code",
   "execution_count": 27,
   "metadata": {},
   "outputs": [
    {
     "name": "stderr",
     "output_type": "stream",
     "text": [
      "/opt/anaconda3/lib/python3.7/site-packages/sklearn/linear_model/_base.py:145: FutureWarning: 'normalize' was deprecated in version 1.0 and will be removed in 1.2.\n",
      "If you wish to scale the data, use Pipeline with a StandardScaler in a preprocessing stage. To reproduce the previous behavior:\n",
      "\n",
      "from sklearn.pipeline import make_pipeline\n",
      "\n",
      "model = make_pipeline(StandardScaler(with_mean=False), _RidgeGCV())\n",
      "\n",
      "If you wish to pass a sample_weight parameter, you need to pass it as a fit parameter to each step of the pipeline as follows:\n",
      "\n",
      "kwargs = {s[0] + '__sample_weight': sample_weight for s in model.steps}\n",
      "model.fit(X, y, **kwargs)\n",
      "\n",
      "\n",
      "  FutureWarning,\n",
      "/opt/anaconda3/lib/python3.7/site-packages/sklearn/linear_model/_base.py:145: FutureWarning: 'normalize' was deprecated in version 1.0 and will be removed in 1.2.\n",
      "If you wish to scale the data, use Pipeline with a StandardScaler in a preprocessing stage. To reproduce the previous behavior:\n",
      "\n",
      "from sklearn.pipeline import make_pipeline\n",
      "\n",
      "model = make_pipeline(StandardScaler(with_mean=False), _RidgeGCV())\n",
      "\n",
      "If you wish to pass a sample_weight parameter, you need to pass it as a fit parameter to each step of the pipeline as follows:\n",
      "\n",
      "kwargs = {s[0] + '__sample_weight': sample_weight for s in model.steps}\n",
      "model.fit(X, y, **kwargs)\n",
      "\n",
      "\n",
      "  FutureWarning,\n",
      "/opt/anaconda3/lib/python3.7/site-packages/sklearn/linear_model/_base.py:145: FutureWarning: 'normalize' was deprecated in version 1.0 and will be removed in 1.2.\n",
      "If you wish to scale the data, use Pipeline with a StandardScaler in a preprocessing stage. To reproduce the previous behavior:\n",
      "\n",
      "from sklearn.pipeline import make_pipeline\n",
      "\n",
      "model = make_pipeline(StandardScaler(with_mean=False), _RidgeGCV())\n",
      "\n",
      "If you wish to pass a sample_weight parameter, you need to pass it as a fit parameter to each step of the pipeline as follows:\n",
      "\n",
      "kwargs = {s[0] + '__sample_weight': sample_weight for s in model.steps}\n",
      "model.fit(X, y, **kwargs)\n",
      "\n",
      "\n",
      "  FutureWarning,\n",
      "/opt/anaconda3/lib/python3.7/site-packages/sklearn/linear_model/_base.py:145: FutureWarning: 'normalize' was deprecated in version 1.0 and will be removed in 1.2.\n",
      "If you wish to scale the data, use Pipeline with a StandardScaler in a preprocessing stage. To reproduce the previous behavior:\n",
      "\n",
      "from sklearn.pipeline import make_pipeline\n",
      "\n",
      "model = make_pipeline(StandardScaler(with_mean=False), _RidgeGCV())\n",
      "\n",
      "If you wish to pass a sample_weight parameter, you need to pass it as a fit parameter to each step of the pipeline as follows:\n",
      "\n",
      "kwargs = {s[0] + '__sample_weight': sample_weight for s in model.steps}\n",
      "model.fit(X, y, **kwargs)\n",
      "\n",
      "\n",
      "  FutureWarning,\n",
      "/opt/anaconda3/lib/python3.7/site-packages/sklearn/linear_model/_base.py:145: FutureWarning: 'normalize' was deprecated in version 1.0 and will be removed in 1.2.\n",
      "If you wish to scale the data, use Pipeline with a StandardScaler in a preprocessing stage. To reproduce the previous behavior:\n",
      "\n",
      "from sklearn.pipeline import make_pipeline\n",
      "\n",
      "model = make_pipeline(StandardScaler(with_mean=False), _RidgeGCV())\n",
      "\n",
      "If you wish to pass a sample_weight parameter, you need to pass it as a fit parameter to each step of the pipeline as follows:\n",
      "\n",
      "kwargs = {s[0] + '__sample_weight': sample_weight for s in model.steps}\n",
      "model.fit(X, y, **kwargs)\n",
      "\n",
      "\n",
      "  FutureWarning,\n",
      "/opt/anaconda3/lib/python3.7/site-packages/sklearn/linear_model/_base.py:145: FutureWarning: 'normalize' was deprecated in version 1.0 and will be removed in 1.2.\n",
      "If you wish to scale the data, use Pipeline with a StandardScaler in a preprocessing stage. To reproduce the previous behavior:\n",
      "\n",
      "from sklearn.pipeline import make_pipeline\n",
      "\n",
      "model = make_pipeline(StandardScaler(with_mean=False), _RidgeGCV())\n",
      "\n",
      "If you wish to pass a sample_weight parameter, you need to pass it as a fit parameter to each step of the pipeline as follows:\n",
      "\n",
      "kwargs = {s[0] + '__sample_weight': sample_weight for s in model.steps}\n",
      "model.fit(X, y, **kwargs)\n",
      "\n",
      "\n",
      "  FutureWarning,\n",
      "/opt/anaconda3/lib/python3.7/site-packages/sklearn/linear_model/_base.py:145: FutureWarning: 'normalize' was deprecated in version 1.0 and will be removed in 1.2.\n",
      "If you wish to scale the data, use Pipeline with a StandardScaler in a preprocessing stage. To reproduce the previous behavior:\n",
      "\n",
      "from sklearn.pipeline import make_pipeline\n",
      "\n",
      "model = make_pipeline(StandardScaler(with_mean=False), _RidgeGCV())\n",
      "\n",
      "If you wish to pass a sample_weight parameter, you need to pass it as a fit parameter to each step of the pipeline as follows:\n",
      "\n",
      "kwargs = {s[0] + '__sample_weight': sample_weight for s in model.steps}\n",
      "model.fit(X, y, **kwargs)\n",
      "\n",
      "\n",
      "  FutureWarning,\n",
      "/opt/anaconda3/lib/python3.7/site-packages/sklearn/linear_model/_base.py:145: FutureWarning: 'normalize' was deprecated in version 1.0 and will be removed in 1.2.\n",
      "If you wish to scale the data, use Pipeline with a StandardScaler in a preprocessing stage. To reproduce the previous behavior:\n",
      "\n",
      "from sklearn.pipeline import make_pipeline\n",
      "\n",
      "model = make_pipeline(StandardScaler(with_mean=False), _RidgeGCV())\n",
      "\n",
      "If you wish to pass a sample_weight parameter, you need to pass it as a fit parameter to each step of the pipeline as follows:\n",
      "\n",
      "kwargs = {s[0] + '__sample_weight': sample_weight for s in model.steps}\n",
      "model.fit(X, y, **kwargs)\n",
      "\n",
      "\n",
      "  FutureWarning,\n"
     ]
    }
   ],
   "source": [
    "tsf = []\n",
    "skt = []\n",
    "roc = []\n",
    "for t in time:\n",
    "    X_train = []\n",
    "    for index, row in train_set.iterrows():\n",
    "        X_train.append([row['entropy'][:t], row['betweenness'][:t], row['closeness'][:t], row['outdegree'][:t],row['clustering'][:t], row['evector_std'][:t]])\n",
    "\n",
    "    X_train = np.array(X_train)\n",
    "    \n",
    "    X_test = []\n",
    "    for index, row in test_set.iterrows():\n",
    "        X_test.append([row['entropy'][:t], row['betweenness'][:t], row['closeness'][:t], row['outdegree'][:t],row['clustering'][:t], row['evector_std'][:t]])\n",
    "\n",
    "    X_test = np.array(X_test)\n",
    "    \n",
    "    # TSF\n",
    "    model = MultivariateClassifier(TimeSeriesForest(n_estimators = 5000, n_windows = 100))\n",
    "    model.fit(X_train,y_train)\n",
    "    tsf.append(model.score(X_test, y_test))\n",
    "    \n",
    "    # column concatenator with sktime\n",
    "    steps = [\n",
    "        (\"concatenate\", ColumnConcatenator()),\n",
    "        (\"classify\", TimeSeriesForestClassifier(n_estimators=100)),\n",
    "    ]\n",
    "    clf = Pipeline(steps)\n",
    "    clf.fit(X_train, y_train)\n",
    "    skt.append(clf.score(X_test, y_test))\n",
    "    \n",
    "    #Rocket\n",
    "    rocket = Rocket()  # by default, ROCKET uses 10,000 kernels\n",
    "    rocket.fit(X_train)\n",
    "    X_train_transform = rocket.transform(X_train)\n",
    "    classifier = RidgeClassifierCV(alphas=np.logspace(-3, 3, 10), normalize=True)\n",
    "    classifier.fit(X_train_transform, y_train)\n",
    "    X_test_transform = rocket.transform(X_test)\n",
    "    roc.append(classifier.score(X_test_transform, y_test))\n",
    "    \n",
    "    \n"
   ]
  },
  {
   "cell_type": "code",
   "execution_count": 28,
   "metadata": {},
   "outputs": [
    {
     "name": "stdout",
     "output_type": "stream",
     "text": [
      "[0.43669250645994834, 0.4625322997416021, 0.49870801033591733, 0.4909560723514212, 0.48320413436692505, 0.48320413436692505, 0.49870801033591733, 0.5478036175710594] [0.43410852713178294, 0.46511627906976744, 0.4470284237726098, 0.5012919896640827, 0.4754521963824289, 0.4935400516795866, 0.5090439276485789, 0.5348837209302325] [0.4186046511627907, 0.37209302325581395, 0.4134366925064599, 0.4289405684754522, 0.4444444444444444, 0.4728682170542636, 0.4599483204134367, 0.49870801033591733]\n"
     ]
    }
   ],
   "source": [
    "print(tsf,skt,roc)"
   ]
  },
  {
   "cell_type": "code",
   "execution_count": 29,
   "metadata": {},
   "outputs": [
    {
     "data": {
      "text/plain": [
       "<matplotlib.legend.Legend at 0x7fed1d5cec50>"
      ]
     },
     "execution_count": 29,
     "metadata": {},
     "output_type": "execute_result"
    },
    {
     "data": {
      "image/png": "[encoded data removed]",
      "text/plain": [
       "<Figure size 432x288 with 1 Axes>"
      ]
     },
     "metadata": {
      "needs_background": "light"
     },
     "output_type": "display_data"
    }
   ],
   "source": [
    "plt.plot(time,tsf,label = 'tsf')\n",
    "plt.plot(time,skt,label = 'skt')\n",
    "plt.plot(time,roc,label = 'roc')\n",
    "plt.legend()"
   ]
  },
  {
   "cell_type": "code",
   "execution_count": 30,
   "metadata": {},
   "outputs": [
    {
     "data": {
      "text/html": [
       "\n",
       "                <audio  controls=\"controls\" autoplay=\"autoplay\">\n",
       "                    <source src=\"https://sound.peal.io/ps/audios/000/000/537/original/woo_vu_luvub_dub_dub.wav\" type=\"audio/x-wav\" />\n",
       "                    Your browser does not support the audio element.\n",
       "                </audio>\n",
       "              "
      ],
      "text/plain": [
       "<IPython.lib.display.Audio object>"
      ]
     },
     "metadata": {},
     "output_type": "display_data"
    }
   ],
   "source": [
    "allDone()"
   ]
  },
  {
   "cell_type": "code",
   "execution_count": 33,
   "metadata": {},
   "outputs": [
    {
     "name": "stdout",
     "output_type": "stream",
     "text": [
      "[0.43669250645994834, 0.4625322997416021, 0.49870801033591733, 0.4909560723514212, 0.48320413436692505, 0.48320413436692505, 0.49870801033591733, 0.5478036175710594]\n"
     ]
    }
   ],
   "source": [
    "print(tsf)"
   ]
  },
  {
   "cell_type": "code",
   "execution_count": 34,
   "metadata": {},
   "outputs": [
    {
     "name": "stdout",
     "output_type": "stream",
     "text": [
      "[0.43410852713178294, 0.46511627906976744, 0.4470284237726098, 0.5012919896640827, 0.4754521963824289, 0.4935400516795866, 0.5090439276485789, 0.5348837209302325]\n"
     ]
    }
   ],
   "source": [
    "print(skt)"
   ]
  },
  {
   "cell_type": "code",
   "execution_count": 35,
   "metadata": {},
   "outputs": [
    {
     "name": "stdout",
     "output_type": "stream",
     "text": [
      "[0.4186046511627907, 0.37209302325581395, 0.4134366925064599, 0.4289405684754522, 0.4444444444444444, 0.4728682170542636, 0.4599483204134367, 0.49870801033591733]\n"
     ]
    }
   ],
   "source": [
    "print(roc)"
   ]
  }
 ],
 "metadata": {
  "kernelspec": {
   "display_name": "Python 3 (ipykernel)",
   "language": "python",
   "name": "python3"
  },
  "language_info": {
   "codemirror_mode": {
    "name": "ipython",
    "version": 3
   },
   "file_extension": ".py",
   "mimetype": "text/x-python",
   "name": "python",
   "nbconvert_exporter": "python",
   "pygments_lexer": "ipython3",
   "version": "3.7.4"
  }
 },
 "nbformat": 4,
 "nbformat_minor": 2
}
